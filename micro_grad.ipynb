{
 "cells": [
  {
   "cell_type": "code",
   "execution_count": 652,
   "metadata": {},
   "outputs": [],
   "source": [
    "#!/usr/bin/env python\n",
    "# -=-<[ Bismillahirrahmanirrahim ]>-=-\n",
    "# -*- coding: utf-8 -*-\n",
    "# @Date    : 2022-11-06 00:07:21\n",
    "# @Author  : Dahir Muhammad Dahir (dahirmuhammad3@gmail.com)\n",
    "# @Link    : link\n",
    "# @About : Intro to neural networks by Andrej Karpathy\n",
    "\n",
    "\n",
    "import math\n",
    "import numpy as np\n",
    "import matplotlib.pyplot as plt\n",
    "\n",
    "%matplotlib inline\n"
   ]
  },
  {
   "cell_type": "code",
   "execution_count": 653,
   "metadata": {},
   "outputs": [],
   "source": [
    "def f(x):\n",
    "    return 3 * x ** 2 - 4 * x + 5"
   ]
  },
  {
   "cell_type": "code",
   "execution_count": 654,
   "metadata": {},
   "outputs": [
    {
     "data": {
      "text/plain": [
       "20"
      ]
     },
     "execution_count": 654,
     "metadata": {},
     "output_type": "execute_result"
    }
   ],
   "source": [
    "f(3)"
   ]
  },
  {
   "cell_type": "code",
   "execution_count": 655,
   "metadata": {},
   "outputs": [
    {
     "data": {
      "text/plain": [
       "array([-5.  , -4.75, -4.5 , -4.25, -4.  , -3.75, -3.5 , -3.25, -3.  ,\n",
       "       -2.75, -2.5 , -2.25, -2.  , -1.75, -1.5 , -1.25, -1.  , -0.75,\n",
       "       -0.5 , -0.25,  0.  ,  0.25,  0.5 ,  0.75,  1.  ,  1.25,  1.5 ,\n",
       "        1.75,  2.  ,  2.25,  2.5 ,  2.75,  3.  ,  3.25,  3.5 ,  3.75,\n",
       "        4.  ,  4.25,  4.5 ,  4.75])"
      ]
     },
     "execution_count": 655,
     "metadata": {},
     "output_type": "execute_result"
    }
   ],
   "source": [
    "xs = np.arange(-5, 5, 0.25)\n",
    "xs"
   ]
  },
  {
   "cell_type": "code",
   "execution_count": 656,
   "metadata": {},
   "outputs": [
    {
     "data": {
      "text/plain": [
       "array([100.    ,  91.6875,  83.75  ,  76.1875,  69.    ,  62.1875,\n",
       "        55.75  ,  49.6875,  44.    ,  38.6875,  33.75  ,  29.1875,\n",
       "        25.    ,  21.1875,  17.75  ,  14.6875,  12.    ,   9.6875,\n",
       "         7.75  ,   6.1875,   5.    ,   4.1875,   3.75  ,   3.6875,\n",
       "         4.    ,   4.6875,   5.75  ,   7.1875,   9.    ,  11.1875,\n",
       "        13.75  ,  16.6875,  20.    ,  23.6875,  27.75  ,  32.1875,\n",
       "        37.    ,  42.1875,  47.75  ,  53.6875])"
      ]
     },
     "execution_count": 656,
     "metadata": {},
     "output_type": "execute_result"
    }
   ],
   "source": [
    "ys = f(xs)\n",
    "ys"
   ]
  },
  {
   "cell_type": "code",
   "execution_count": 657,
   "metadata": {},
   "outputs": [
    {
     "data": {
      "text/plain": [
       "[<matplotlib.lines.Line2D at 0x7fe4e9fc0f40>]"
      ]
     },
     "execution_count": 657,
     "metadata": {},
     "output_type": "execute_result"
    },
    {
     "data": {
      "image/png": "[encoded data removed]",
      "text/plain": [
       "<Figure size 432x288 with 1 Axes>"
      ]
     },
     "metadata": {
      "needs_background": "light"
     },
     "output_type": "display_data"
    }
   ],
   "source": [
    "plt.plot(xs, ys)"
   ]
  },
  {
   "cell_type": "code",
   "execution_count": 658,
   "metadata": {},
   "outputs": [
    {
     "data": {
      "text/plain": [
       "20.014003000000002"
      ]
     },
     "execution_count": 658,
     "metadata": {},
     "output_type": "execute_result"
    }
   ],
   "source": [
    "h = 0.001\n",
    "x = 3.0\n",
    "f(x + h)\n"
   ]
  },
  {
   "cell_type": "code",
   "execution_count": 659,
   "metadata": {},
   "outputs": [
    {
     "data": {
      "text/plain": [
       "0.01400300000000243"
      ]
     },
     "execution_count": 659,
     "metadata": {},
     "output_type": "execute_result"
    }
   ],
   "source": [
    "f(x + h) - f(x)"
   ]
  },
  {
   "cell_type": "code",
   "execution_count": 660,
   "metadata": {},
   "outputs": [
    {
     "data": {
      "text/plain": [
       "14.00300000000243"
      ]
     },
     "execution_count": 660,
     "metadata": {},
     "output_type": "execute_result"
    }
   ],
   "source": [
    "(f(x + h) - f(x)) / h"
   ]
  },
  {
   "cell_type": "code",
   "execution_count": 661,
   "metadata": {},
   "outputs": [
    {
     "data": {
      "text/plain": [
       "-21.996999999998934"
      ]
     },
     "execution_count": 661,
     "metadata": {},
     "output_type": "execute_result"
    }
   ],
   "source": [
    "x = -3.0\n",
    "\n",
    "(f(x + h) - f(x)) / h"
   ]
  },
  {
   "cell_type": "code",
   "execution_count": 662,
   "metadata": {},
   "outputs": [
    {
     "data": {
      "text/plain": [
       "2.999378523327323e-06"
      ]
     },
     "execution_count": 662,
     "metadata": {},
     "output_type": "execute_result"
    }
   ],
   "source": [
    "x = 2/3\n",
    "h = 0.000001\n",
    "\n",
    "(f(x + h) - f(x)) / h"
   ]
  },
  {
   "cell_type": "code",
   "execution_count": 663,
   "metadata": {},
   "outputs": [
    {
     "data": {
      "text/plain": [
       "4.0"
      ]
     },
     "execution_count": 663,
     "metadata": {},
     "output_type": "execute_result"
    }
   ],
   "source": [
    "# let's get more complex\n",
    "\n",
    "a = 2.0\n",
    "b = -3.0\n",
    "c = 10.0\n",
    "d = a * b + c\n",
    "d"
   ]
  },
  {
   "cell_type": "code",
   "execution_count": 664,
   "metadata": {},
   "outputs": [
    {
     "name": "stdout",
     "output_type": "stream",
     "text": [
      "d1 4.0\n",
      "d2 3.999699999999999\n",
      "slope -3.000000000010772\n"
     ]
    }
   ],
   "source": [
    "h = 0.0001\n",
    "\n",
    "# inputs\n",
    "a = 2.0\n",
    "b = -3.0\n",
    "c = 10.0\n",
    "\n",
    "d1 = a * b + c\n",
    "\n",
    "a += h\n",
    "\n",
    "d2 = a * b + c\n",
    "\n",
    "print(f'd1 {d1}')\n",
    "\n",
    "print(f'd2 {d2}')\n",
    "\n",
    "print(f'slope {(d2 - d1) / h}')"
   ]
  },
  {
   "cell_type": "code",
   "execution_count": 665,
   "metadata": {},
   "outputs": [
    {
     "name": "stdout",
     "output_type": "stream",
     "text": [
      "d1 4.0\n",
      "d2 4.0002\n",
      "slope 2.0000000000042206\n"
     ]
    }
   ],
   "source": [
    "h = 0.0001\n",
    "\n",
    "# inputs\n",
    "a = 2.0\n",
    "b = -3.0\n",
    "c = 10.0\n",
    "\n",
    "d1 = a * b + c\n",
    "\n",
    "b += h\n",
    "\n",
    "d2 = a * b + c\n",
    "\n",
    "print(f'd1 {d1}')\n",
    "\n",
    "print(f'd2 {d2}')\n",
    "\n",
    "print(f'slope {(d2 - d1) / h}')"
   ]
  },
  {
   "cell_type": "code",
   "execution_count": 666,
   "metadata": {},
   "outputs": [
    {
     "name": "stdout",
     "output_type": "stream",
     "text": [
      "d1 4.0\n",
      "d2 4.0001\n",
      "slope 0.9999999999976694\n"
     ]
    }
   ],
   "source": [
    "h = 0.0001\n",
    "\n",
    "# inputs\n",
    "a = 2.0\n",
    "b = -3.0\n",
    "c = 10.0\n",
    "\n",
    "d1 = a * b + c\n",
    "\n",
    "c += h\n",
    "\n",
    "d2 = a * b + c\n",
    "\n",
    "print(f'd1 {d1}')\n",
    "\n",
    "print(f'd2 {d2}')\n",
    "\n",
    "print(f'slope {(d2 - d1) / h}')"
   ]
  },
  {
   "cell_type": "code",
   "execution_count": 667,
   "metadata": {},
   "outputs": [
    {
     "data": {
      "text/plain": [
       "Value(data=10)_*"
      ]
     },
     "execution_count": 667,
     "metadata": {},
     "output_type": "execute_result"
    }
   ],
   "source": [
    "class Value:\n",
    "\n",
    "    def __init__(self, data, _children=(), _op='', label='') -> None:\n",
    "        self.data = data\n",
    "        self.grad = 0.0\n",
    "        self._backward = lambda: None\n",
    "        self._prev = set(_children)\n",
    "        self._op = _op\n",
    "        self.label = label\n",
    "    \n",
    "    def __repr__(self) -> str:\n",
    "        return f\"Value(data={self.data})_{self._op}\"\n",
    "    \n",
    "    def __add__(self, other):\n",
    "        other = other if isinstance(other, Value) else Value(other)\n",
    "        out = Value(self.data + other.data, (self, other), '+')\n",
    "        \n",
    "        def _backward():\n",
    "            self.grad += 1.0 * out.grad\n",
    "            other.grad += 1.0 * out.grad\n",
    "        \n",
    "        out._backward = _backward\n",
    "\n",
    "        return out\n",
    "    \n",
    "    def __mul__(self, other):\n",
    "        other = other if isinstance(other, Value) else Value(other)\n",
    "        out = Value(self.data * other.data, (self, other), '*')\n",
    "\n",
    "        def _backward():\n",
    "            self.grad += other.data * out.grad\n",
    "            other.grad += self.data * out.grad\n",
    "        \n",
    "        out._backward = _backward\n",
    "        \n",
    "        return out\n",
    "    \n",
    "    def __pow__(self, other):\n",
    "        assert isinstance(other, (int, float)), \"only supporting int/float powers for now\"\n",
    "        out = Value(self.data ** other, (self, ), f'**{other}')\n",
    "\n",
    "        def _backward():\n",
    "            self.grad += other * (self.data ** (other - 1)) * out.grad\n",
    "        \n",
    "        out._backward = _backward\n",
    "\n",
    "        return out\n",
    "    \n",
    "    def __rmul__(self, other):\n",
    "        return self * other\n",
    "    \n",
    "    def __radd__(self, other):\n",
    "        return self + other\n",
    "    \n",
    "    def __truediv__(self, other):\n",
    "        return self * other**-1\n",
    "    \n",
    "    def __neg__(self):\n",
    "        return self * -1\n",
    "    \n",
    "    def __sub__(self, other):\n",
    "        return self + (-other)\n",
    "    \n",
    "    def tanh(self):\n",
    "        x = self.data\n",
    "        t = (math.exp(2*x) - 1) / (math.exp(2*x) + 1)\n",
    "        out = Value(t, (self, ), 'tanh')\n",
    "\n",
    "        def _backward():\n",
    "            self.grad += (1 - t**2) * out.grad\n",
    "        \n",
    "        out._backward = _backward\n",
    "\n",
    "        return out\n",
    "    \n",
    "    def exp(self):\n",
    "        x = self.data\n",
    "        out = Value(math.exp(x), (self, ), 'exp')\n",
    "\n",
    "        def _backward():\n",
    "            self.grad += out.data * out.grad\n",
    "        \n",
    "        out._backward = _backward\n",
    "        return out\n",
    "    \n",
    "    def backward(self):\n",
    "        topo = []\n",
    "        visited = set()\n",
    "\n",
    "        def build_topo(v):\n",
    "            if v not in visited:\n",
    "                visited.add(v)\n",
    "                for child in v._prev:\n",
    "                    build_topo(child)\n",
    "                topo.append(v)\n",
    "        \n",
    "        build_topo(self)\n",
    "\n",
    "        self.grad = 1.0\n",
    "\n",
    "        for node in reversed(topo):\n",
    "            node._backward()\n",
    "\n",
    "a = Value(5)\n",
    "\n",
    "2 * a"
   ]
  },
  {
   "cell_type": "code",
   "execution_count": 668,
   "metadata": {},
   "outputs": [],
   "source": [
    "from graphviz import Digraph\n",
    "\n",
    "def trace(root):\n",
    "    nodes, edges = set(), set()\n",
    "    def build(v):\n",
    "        if v not in nodes:\n",
    "            nodes.add(v)\n",
    "            for child in v._prev:\n",
    "                edges.add((child, v))\n",
    "                build(child)\n",
    "    build(root)\n",
    "    return nodes, edges\n",
    "\n",
    "\n",
    "def draw_dot(root, format='svg', rankdir='LR'):\n",
    "    nodes, edges = trace(root)\n",
    "    dot = Digraph(format=format, graph_attr={'rankdir': rankdir}) #, node_attr={'rankdir': 'TB'})\n",
    "    \n",
    "    for n in nodes:\n",
    "        dot.node(name=str(id(n)), label = \"{ %s | data %.4f | grad %.4f }\" % (n.label, n.data, n.grad ), shape='record')\n",
    "        if n._op:\n",
    "            dot.node(name=str(id(n)) + n._op, label=n._op)\n",
    "            dot.edge(str(id(n)) + n._op, str(id(n)))\n",
    "    \n",
    "    for n1, n2 in edges:\n",
    "        dot.edge(str(id(n1)), str(id(n2)) + n2._op)\n",
    "    \n",
    "    return dot"
   ]
  },
  {
   "cell_type": "code",
   "execution_count": 669,
   "metadata": {},
   "outputs": [
    {
     "data": {
      "image/svg+xml": [
       "<?xml version=\"1.0\" encoding=\"UTF-8\" standalone=\"no\"?>\n",
       "<!DOCTYPE svg PUBLIC \"-//W3C//DTD SVG 1.1//EN\"\n",
       " \"http://www.w3.org/Graphics/SVG/1.1/DTD/svg11.dtd\">\n",
       "<!-- Generated by graphviz version 2.43.0 (0)\n",
       " -->\n",
       "<!-- Title: %3 Pages: 1 -->\n",
       "<svg width=\"597pt\" height=\"45pt\"\n",
       " viewBox=\"0.00 0.00 597.00 45.00\" xmlns=\"http://www.w3.org/2000/svg\" xmlns:xlink=\"http://www.w3.org/1999/xlink\">\n",
       "<g id=\"graph0\" class=\"graph\" transform=\"scale(1 1) rotate(0) translate(4 41)\">\n",
       "<title>%3</title>\n",
       "<polygon fill=\"white\" stroke=\"transparent\" points=\"-4,4 -4,-41 593,-41 593,4 -4,4\"/>\n",
       "<!-- 140621152744736 -->\n",
       "<g id=\"node1\" class=\"node\">\n",
       "<title>140621152744736</title>\n",
       "<polygon fill=\"none\" stroke=\"black\" points=\"0,-0.5 0,-36.5 231,-36.5 231,-0.5 0,-0.5\"/>\n",
       "<text text-anchor=\"middle\" x=\"12.5\" y=\"-14.8\" font-family=\"Times,serif\" font-size=\"14.00\">a</text>\n",
       "<polyline fill=\"none\" stroke=\"black\" points=\"25,-0.5 25,-36.5 \"/>\n",
       "<text text-anchor=\"middle\" x=\"76\" y=\"-14.8\" font-family=\"Times,serif\" font-size=\"14.00\">data 3.0000</text>\n",
       "<polyline fill=\"none\" stroke=\"black\" points=\"127,-0.5 127,-36.5 \"/>\n",
       "<text text-anchor=\"middle\" x=\"179\" y=\"-14.8\" font-family=\"Times,serif\" font-size=\"14.00\">grad 2.0000</text>\n",
       "</g>\n",
       "<!-- 140621152742720+ -->\n",
       "<g id=\"node3\" class=\"node\">\n",
       "<title>140621152742720+</title>\n",
       "<ellipse fill=\"none\" stroke=\"black\" cx=\"294\" cy=\"-18.5\" rx=\"27\" ry=\"18\"/>\n",
       "<text text-anchor=\"middle\" x=\"294\" y=\"-14.8\" font-family=\"Times,serif\" font-size=\"14.00\">+</text>\n",
       "</g>\n",
       "<!-- 140621152744736&#45;&gt;140621152742720+ -->\n",
       "<g id=\"edge2\" class=\"edge\">\n",
       "<title>140621152744736&#45;&gt;140621152742720+</title>\n",
       "<path fill=\"none\" stroke=\"black\" d=\"M231.27,-18.5C240.32,-18.5 248.97,-18.5 256.76,-18.5\"/>\n",
       "<polygon fill=\"black\" stroke=\"black\" points=\"256.84,-22 266.84,-18.5 256.84,-15 256.84,-22\"/>\n",
       "</g>\n",
       "<!-- 140621152742720 -->\n",
       "<g id=\"node2\" class=\"node\">\n",
       "<title>140621152742720</title>\n",
       "<polygon fill=\"none\" stroke=\"black\" points=\"357,-0.5 357,-36.5 589,-36.5 589,-0.5 357,-0.5\"/>\n",
       "<text text-anchor=\"middle\" x=\"370\" y=\"-14.8\" font-family=\"Times,serif\" font-size=\"14.00\">b</text>\n",
       "<polyline fill=\"none\" stroke=\"black\" points=\"383,-0.5 383,-36.5 \"/>\n",
       "<text text-anchor=\"middle\" x=\"434\" y=\"-14.8\" font-family=\"Times,serif\" font-size=\"14.00\">data 6.0000</text>\n",
       "<polyline fill=\"none\" stroke=\"black\" points=\"485,-0.5 485,-36.5 \"/>\n",
       "<text text-anchor=\"middle\" x=\"537\" y=\"-14.8\" font-family=\"Times,serif\" font-size=\"14.00\">grad 1.0000</text>\n",
       "</g>\n",
       "<!-- 140621152742720+&#45;&gt;140621152742720 -->\n",
       "<g id=\"edge1\" class=\"edge\">\n",
       "<title>140621152742720+&#45;&gt;140621152742720</title>\n",
       "<path fill=\"none\" stroke=\"black\" d=\"M321.12,-18.5C328.53,-18.5 337.14,-18.5 346.4,-18.5\"/>\n",
       "<polygon fill=\"black\" stroke=\"black\" points=\"346.69,-22 356.69,-18.5 346.69,-15 346.69,-22\"/>\n",
       "</g>\n",
       "</g>\n",
       "</svg>\n"
      ],
      "text/plain": [
       "<graphviz.graphs.Digraph at 0x7fe4e9db7910>"
      ]
     },
     "execution_count": 669,
     "metadata": {},
     "output_type": "execute_result"
    }
   ],
   "source": [
    "a = Value(3.0, label='a')\n",
    "b = a + a; b.label = 'b'\n",
    "b.backward()\n",
    "draw_dot(b)"
   ]
  },
  {
   "cell_type": "code",
   "execution_count": 670,
   "metadata": {},
   "outputs": [
    {
     "data": {
      "image/svg+xml": [
       "<?xml version=\"1.0\" encoding=\"UTF-8\" standalone=\"no\"?>\n",
       "<!DOCTYPE svg PUBLIC \"-//W3C//DTD SVG 1.1//EN\"\n",
       " \"http://www.w3.org/Graphics/SVG/1.1/DTD/svg11.dtd\">\n",
       "<!-- Generated by graphviz version 2.43.0 (0)\n",
       " -->\n",
       "<!-- Title: %3 Pages: 1 -->\n",
       "<svg width=\"3410pt\" height=\"239pt\"\n",
       " viewBox=\"0.00 0.00 3409.60 239.00\" xmlns=\"http://www.w3.org/2000/svg\" xmlns:xlink=\"http://www.w3.org/1999/xlink\">\n",
       "<g id=\"graph0\" class=\"graph\" transform=\"scale(1 1) rotate(0) translate(4 235)\">\n",
       "<title>%3</title>\n",
       "<polygon fill=\"white\" stroke=\"transparent\" points=\"-4,4 -4,-235 3405.6,-235 3405.6,4 -4,4\"/>\n",
       "<!-- 140621160161792 -->\n",
       "<g id=\"node1\" class=\"node\">\n",
       "<title>140621160161792</title>\n",
       "<polygon fill=\"none\" stroke=\"black\" points=\"2817.6,-80.5 2817.6,-116.5 3044.6,-116.5 3044.6,-80.5 2817.6,-80.5\"/>\n",
       "<text text-anchor=\"middle\" x=\"2828.1\" y=\"-94.8\" font-family=\"Times,serif\" font-size=\"14.00\"> </text>\n",
       "<polyline fill=\"none\" stroke=\"black\" points=\"2838.6,-80.5 2838.6,-116.5 \"/>\n",
       "<text text-anchor=\"middle\" x=\"2889.6\" y=\"-94.8\" font-family=\"Times,serif\" font-size=\"14.00\">data 0.1464</text>\n",
       "<polyline fill=\"none\" stroke=\"black\" points=\"2940.6,-80.5 2940.6,-116.5 \"/>\n",
       "<text text-anchor=\"middle\" x=\"2992.6\" y=\"-94.8\" font-family=\"Times,serif\" font-size=\"14.00\">grad 4.8284</text>\n",
       "</g>\n",
       "<!-- 140621152735328* -->\n",
       "<g id=\"node7\" class=\"node\">\n",
       "<title>140621152735328*</title>\n",
       "<ellipse fill=\"none\" stroke=\"black\" cx=\"3107.6\" cy=\"-72.5\" rx=\"27\" ry=\"18\"/>\n",
       "<text text-anchor=\"middle\" x=\"3107.6\" y=\"-68.8\" font-family=\"Times,serif\" font-size=\"14.00\">*</text>\n",
       "</g>\n",
       "<!-- 140621160161792&#45;&gt;140621152735328* -->\n",
       "<g id=\"edge20\" class=\"edge\">\n",
       "<title>140621160161792&#45;&gt;140621152735328*</title>\n",
       "<path fill=\"none\" stroke=\"black\" d=\"M3045.07,-81.67C3054.37,-80.28 3063.23,-78.96 3071.2,-77.77\"/>\n",
       "<polygon fill=\"black\" stroke=\"black\" points=\"3071.73,-81.23 3081.1,-76.3 3070.7,-74.31 3071.73,-81.23\"/>\n",
       "</g>\n",
       "<!-- 140621160161792**&#45;1 -->\n",
       "<g id=\"node2\" class=\"node\">\n",
       "<title>140621160161792**&#45;1</title>\n",
       "<ellipse fill=\"none\" stroke=\"black\" cx=\"2668.1\" cy=\"-100.5\" rx=\"28.7\" ry=\"18\"/>\n",
       "<text text-anchor=\"middle\" x=\"2668.1\" y=\"-96.8\" font-family=\"Times,serif\" font-size=\"14.00\">**&#45;1</text>\n",
       "</g>\n",
       "<!-- 140621160161792**&#45;1&#45;&gt;140621160161792 -->\n",
       "<g id=\"edge1\" class=\"edge\">\n",
       "<title>140621160161792**&#45;1&#45;&gt;140621160161792</title>\n",
       "<path fill=\"none\" stroke=\"black\" d=\"M2697.03,-100.29C2723.75,-100.08 2765.99,-99.76 2807.21,-99.44\"/>\n",
       "<polygon fill=\"black\" stroke=\"black\" points=\"2807.4,-102.94 2817.37,-99.36 2807.35,-95.94 2807.4,-102.94\"/>\n",
       "</g>\n",
       "<!-- 140621152744448 -->\n",
       "<g id=\"node3\" class=\"node\">\n",
       "<title>140621152744448</title>\n",
       "<polygon fill=\"none\" stroke=\"black\" points=\"2.5,-194.5 2.5,-230.5 246.5,-230.5 246.5,-194.5 2.5,-194.5\"/>\n",
       "<text text-anchor=\"middle\" x=\"21.5\" y=\"-208.8\" font-family=\"Times,serif\" font-size=\"14.00\">w2</text>\n",
       "<polyline fill=\"none\" stroke=\"black\" points=\"40.5,-194.5 40.5,-230.5 \"/>\n",
       "<text text-anchor=\"middle\" x=\"91.5\" y=\"-208.8\" font-family=\"Times,serif\" font-size=\"14.00\">data 1.0000</text>\n",
       "<polyline fill=\"none\" stroke=\"black\" points=\"142.5,-194.5 142.5,-230.5 \"/>\n",
       "<text text-anchor=\"middle\" x=\"194.5\" y=\"-208.8\" font-family=\"Times,serif\" font-size=\"14.00\">grad 0.0000</text>\n",
       "</g>\n",
       "<!-- 140621152743008* -->\n",
       "<g id=\"node9\" class=\"node\">\n",
       "<title>140621152743008*</title>\n",
       "<ellipse fill=\"none\" stroke=\"black\" cx=\"312\" cy=\"-157.5\" rx=\"27\" ry=\"18\"/>\n",
       "<text text-anchor=\"middle\" x=\"312\" y=\"-153.8\" font-family=\"Times,serif\" font-size=\"14.00\">*</text>\n",
       "</g>\n",
       "<!-- 140621152744448&#45;&gt;140621152743008* -->\n",
       "<g id=\"edge24\" class=\"edge\">\n",
       "<title>140621152744448&#45;&gt;140621152743008*</title>\n",
       "<path fill=\"none\" stroke=\"black\" d=\"M214.42,-194.45C226.15,-191.46 237.93,-188.13 249,-184.5 259.46,-181.07 270.57,-176.53 280.46,-172.16\"/>\n",
       "<polygon fill=\"black\" stroke=\"black\" points=\"282.21,-175.21 289.87,-167.88 279.31,-168.83 282.21,-175.21\"/>\n",
       "</g>\n",
       "<!-- 140621152745024 -->\n",
       "<g id=\"node4\" class=\"node\">\n",
       "<title>140621152745024</title>\n",
       "<polygon fill=\"none\" stroke=\"black\" points=\"1218,-83.5 1218,-119.5 1450,-119.5 1450,-83.5 1218,-83.5\"/>\n",
       "<text text-anchor=\"middle\" x=\"1231\" y=\"-97.8\" font-family=\"Times,serif\" font-size=\"14.00\">n</text>\n",
       "<polyline fill=\"none\" stroke=\"black\" points=\"1244,-83.5 1244,-119.5 \"/>\n",
       "<text text-anchor=\"middle\" x=\"1295\" y=\"-97.8\" font-family=\"Times,serif\" font-size=\"14.00\">data 0.8814</text>\n",
       "<polyline fill=\"none\" stroke=\"black\" points=\"1346,-83.5 1346,-119.5 \"/>\n",
       "<text text-anchor=\"middle\" x=\"1398\" y=\"-97.8\" font-family=\"Times,serif\" font-size=\"14.00\">grad 0.5000</text>\n",
       "</g>\n",
       "<!-- 140621160168080* -->\n",
       "<g id=\"node12\" class=\"node\">\n",
       "<title>140621160168080*</title>\n",
       "<ellipse fill=\"none\" stroke=\"black\" cx=\"1513\" cy=\"-73.5\" rx=\"27\" ry=\"18\"/>\n",
       "<text text-anchor=\"middle\" x=\"1513\" y=\"-69.8\" font-family=\"Times,serif\" font-size=\"14.00\">*</text>\n",
       "</g>\n",
       "<!-- 140621152745024&#45;&gt;140621160168080* -->\n",
       "<g id=\"edge18\" class=\"edge\">\n",
       "<title>140621152745024&#45;&gt;140621160168080*</title>\n",
       "<path fill=\"none\" stroke=\"black\" d=\"M1449.1,-83.45C1458.88,-81.9 1468.21,-80.43 1476.54,-79.11\"/>\n",
       "<polygon fill=\"black\" stroke=\"black\" points=\"1477.19,-82.55 1486.52,-77.53 1476.1,-75.64 1477.19,-82.55\"/>\n",
       "</g>\n",
       "<!-- 140621152745024+ -->\n",
       "<g id=\"node5\" class=\"node\">\n",
       "<title>140621152745024+</title>\n",
       "<ellipse fill=\"none\" stroke=\"black\" cx=\"1155\" cy=\"-101.5\" rx=\"27\" ry=\"18\"/>\n",
       "<text text-anchor=\"middle\" x=\"1155\" y=\"-97.8\" font-family=\"Times,serif\" font-size=\"14.00\">+</text>\n",
       "</g>\n",
       "<!-- 140621152745024+&#45;&gt;140621152745024 -->\n",
       "<g id=\"edge2\" class=\"edge\">\n",
       "<title>140621152745024+&#45;&gt;140621152745024</title>\n",
       "<path fill=\"none\" stroke=\"black\" d=\"M1182.12,-101.5C1189.53,-101.5 1198.14,-101.5 1207.4,-101.5\"/>\n",
       "<polygon fill=\"black\" stroke=\"black\" points=\"1207.69,-105 1217.69,-101.5 1207.69,-98 1207.69,-105\"/>\n",
       "</g>\n",
       "<!-- 140621152735328 -->\n",
       "<g id=\"node6\" class=\"node\">\n",
       "<title>140621152735328</title>\n",
       "<polygon fill=\"none\" stroke=\"black\" points=\"3170.6,-54.5 3170.6,-90.5 3401.6,-90.5 3401.6,-54.5 3170.6,-54.5\"/>\n",
       "<text text-anchor=\"middle\" x=\"3183.1\" y=\"-68.8\" font-family=\"Times,serif\" font-size=\"14.00\">o</text>\n",
       "<polyline fill=\"none\" stroke=\"black\" points=\"3195.6,-54.5 3195.6,-90.5 \"/>\n",
       "<text text-anchor=\"middle\" x=\"3246.6\" y=\"-68.8\" font-family=\"Times,serif\" font-size=\"14.00\">data 0.7071</text>\n",
       "<polyline fill=\"none\" stroke=\"black\" points=\"3297.6,-54.5 3297.6,-90.5 \"/>\n",
       "<text text-anchor=\"middle\" x=\"3349.6\" y=\"-68.8\" font-family=\"Times,serif\" font-size=\"14.00\">grad 1.0000</text>\n",
       "</g>\n",
       "<!-- 140621152735328*&#45;&gt;140621152735328 -->\n",
       "<g id=\"edge3\" class=\"edge\">\n",
       "<title>140621152735328*&#45;&gt;140621152735328</title>\n",
       "<path fill=\"none\" stroke=\"black\" d=\"M3134.64,-72.5C3142.18,-72.5 3150.96,-72.5 3160.41,-72.5\"/>\n",
       "<polygon fill=\"black\" stroke=\"black\" points=\"3160.49,-76 3170.49,-72.5 3160.49,-69 3160.49,-76\"/>\n",
       "</g>\n",
       "<!-- 140621152743008 -->\n",
       "<g id=\"node8\" class=\"node\">\n",
       "<title>140621152743008</title>\n",
       "<polygon fill=\"none\" stroke=\"black\" points=\"377.5,-139.5 377.5,-175.5 638.5,-175.5 638.5,-139.5 377.5,-139.5\"/>\n",
       "<text text-anchor=\"middle\" x=\"405\" y=\"-153.8\" font-family=\"Times,serif\" font-size=\"14.00\">x2w2</text>\n",
       "<polyline fill=\"none\" stroke=\"black\" points=\"432.5,-139.5 432.5,-175.5 \"/>\n",
       "<text text-anchor=\"middle\" x=\"483.5\" y=\"-153.8\" font-family=\"Times,serif\" font-size=\"14.00\">data 0.0000</text>\n",
       "<polyline fill=\"none\" stroke=\"black\" points=\"534.5,-139.5 534.5,-175.5 \"/>\n",
       "<text text-anchor=\"middle\" x=\"586.5\" y=\"-153.8\" font-family=\"Times,serif\" font-size=\"14.00\">grad 0.5000</text>\n",
       "</g>\n",
       "<!-- 140621152740032+ -->\n",
       "<g id=\"node18\" class=\"node\">\n",
       "<title>140621152740032+</title>\n",
       "<ellipse fill=\"none\" stroke=\"black\" cx=\"704\" cy=\"-129.5\" rx=\"27\" ry=\"18\"/>\n",
       "<text text-anchor=\"middle\" x=\"704\" y=\"-125.8\" font-family=\"Times,serif\" font-size=\"14.00\">+</text>\n",
       "</g>\n",
       "<!-- 140621152743008&#45;&gt;140621152740032+ -->\n",
       "<g id=\"edge27\" class=\"edge\">\n",
       "<title>140621152743008&#45;&gt;140621152740032+</title>\n",
       "<path fill=\"none\" stroke=\"black\" d=\"M633.78,-139.49C645.77,-137.76 657.15,-136.12 667.08,-134.68\"/>\n",
       "<polygon fill=\"black\" stroke=\"black\" points=\"667.86,-138.11 677.25,-133.22 666.86,-131.18 667.86,-138.11\"/>\n",
       "</g>\n",
       "<!-- 140621152743008*&#45;&gt;140621152743008 -->\n",
       "<g id=\"edge4\" class=\"edge\">\n",
       "<title>140621152743008*&#45;&gt;140621152743008</title>\n",
       "<path fill=\"none\" stroke=\"black\" d=\"M339.16,-157.5C347.24,-157.5 356.75,-157.5 367.07,-157.5\"/>\n",
       "<polygon fill=\"black\" stroke=\"black\" points=\"367.2,-161 377.2,-157.5 367.2,-154 367.2,-161\"/>\n",
       "</g>\n",
       "<!-- 140621160163952 -->\n",
       "<g id=\"node10\" class=\"node\">\n",
       "<title>140621160163952</title>\n",
       "<polygon fill=\"none\" stroke=\"black\" points=\"1930.1,-110.5 1930.1,-146.5 2161.1,-146.5 2161.1,-110.5 1930.1,-110.5\"/>\n",
       "<text text-anchor=\"middle\" x=\"1940.6\" y=\"-124.8\" font-family=\"Times,serif\" font-size=\"14.00\"> </text>\n",
       "<polyline fill=\"none\" stroke=\"black\" points=\"1951.1,-110.5 1951.1,-146.5 \"/>\n",
       "<text text-anchor=\"middle\" x=\"2002.1\" y=\"-124.8\" font-family=\"Times,serif\" font-size=\"14.00\">data 1.0000</text>\n",
       "<polyline fill=\"none\" stroke=\"black\" points=\"2053.1,-110.5 2053.1,-146.5 \"/>\n",
       "<text text-anchor=\"middle\" x=\"2107.1\" y=\"-124.8\" font-family=\"Times,serif\" font-size=\"14.00\">grad &#45;0.1036</text>\n",
       "</g>\n",
       "<!-- 140621160168320+ -->\n",
       "<g id=\"node26\" class=\"node\">\n",
       "<title>140621160168320+</title>\n",
       "<ellipse fill=\"none\" stroke=\"black\" cx=\"2224.6\" cy=\"-100.5\" rx=\"27\" ry=\"18\"/>\n",
       "<text text-anchor=\"middle\" x=\"2224.6\" y=\"-96.8\" font-family=\"Times,serif\" font-size=\"14.00\">+</text>\n",
       "</g>\n",
       "<!-- 140621160163952&#45;&gt;140621160168320+ -->\n",
       "<g id=\"edge12\" class=\"edge\">\n",
       "<title>140621160163952&#45;&gt;140621160168320+</title>\n",
       "<path fill=\"none\" stroke=\"black\" d=\"M2160.69,-110.45C2170.48,-108.9 2179.8,-107.43 2188.14,-106.11\"/>\n",
       "<polygon fill=\"black\" stroke=\"black\" points=\"2188.79,-109.55 2198.12,-104.53 2187.69,-102.64 2188.79,-109.55\"/>\n",
       "</g>\n",
       "<!-- 140621160168080 -->\n",
       "<g id=\"node11\" class=\"node\">\n",
       "<title>140621160168080</title>\n",
       "<polygon fill=\"none\" stroke=\"black\" points=\"1576,-55.5 1576,-91.5 1803,-91.5 1803,-55.5 1576,-55.5\"/>\n",
       "<text text-anchor=\"middle\" x=\"1586.5\" y=\"-69.8\" font-family=\"Times,serif\" font-size=\"14.00\"> </text>\n",
       "<polyline fill=\"none\" stroke=\"black\" points=\"1597,-55.5 1597,-91.5 \"/>\n",
       "<text text-anchor=\"middle\" x=\"1648\" y=\"-69.8\" font-family=\"Times,serif\" font-size=\"14.00\">data 1.7627</text>\n",
       "<polyline fill=\"none\" stroke=\"black\" points=\"1699,-55.5 1699,-91.5 \"/>\n",
       "<text text-anchor=\"middle\" x=\"1751\" y=\"-69.8\" font-family=\"Times,serif\" font-size=\"14.00\">grad 0.2500</text>\n",
       "</g>\n",
       "<!-- 140621160155312exp -->\n",
       "<g id=\"node16\" class=\"node\">\n",
       "<title>140621160155312exp</title>\n",
       "<ellipse fill=\"none\" stroke=\"black\" cx=\"1866.3\" cy=\"-73.5\" rx=\"27.1\" ry=\"18\"/>\n",
       "<text text-anchor=\"middle\" x=\"1866.3\" y=\"-69.8\" font-family=\"Times,serif\" font-size=\"14.00\">exp</text>\n",
       "</g>\n",
       "<!-- 140621160168080&#45;&gt;140621160155312exp -->\n",
       "<g id=\"edge14\" class=\"edge\">\n",
       "<title>140621160168080&#45;&gt;140621160155312exp</title>\n",
       "<path fill=\"none\" stroke=\"black\" d=\"M1803.18,-73.5C1812.26,-73.5 1820.95,-73.5 1828.79,-73.5\"/>\n",
       "<polygon fill=\"black\" stroke=\"black\" points=\"1828.93,-77 1838.93,-73.5 1828.93,-70 1828.93,-77\"/>\n",
       "</g>\n",
       "<!-- 140621160168080*&#45;&gt;140621160168080 -->\n",
       "<g id=\"edge5\" class=\"edge\">\n",
       "<title>140621160168080*&#45;&gt;140621160168080</title>\n",
       "<path fill=\"none\" stroke=\"black\" d=\"M1540.12,-73.5C1547.67,-73.5 1556.45,-73.5 1565.9,-73.5\"/>\n",
       "<polygon fill=\"black\" stroke=\"black\" points=\"1565.95,-77 1575.95,-73.5 1565.95,-70 1565.95,-77\"/>\n",
       "</g>\n",
       "<!-- 140621152732832 -->\n",
       "<g id=\"node13\" class=\"node\">\n",
       "<title>140621152732832</title>\n",
       "<polygon fill=\"none\" stroke=\"black\" points=\"375,-84.5 375,-120.5 641,-120.5 641,-84.5 375,-84.5\"/>\n",
       "<text text-anchor=\"middle\" x=\"402.5\" y=\"-98.8\" font-family=\"Times,serif\" font-size=\"14.00\">x1w1</text>\n",
       "<polyline fill=\"none\" stroke=\"black\" points=\"430,-84.5 430,-120.5 \"/>\n",
       "<text text-anchor=\"middle\" x=\"483.5\" y=\"-98.8\" font-family=\"Times,serif\" font-size=\"14.00\">data &#45;6.0000</text>\n",
       "<polyline fill=\"none\" stroke=\"black\" points=\"537,-84.5 537,-120.5 \"/>\n",
       "<text text-anchor=\"middle\" x=\"589\" y=\"-98.8\" font-family=\"Times,serif\" font-size=\"14.00\">grad 0.5000</text>\n",
       "</g>\n",
       "<!-- 140621152732832&#45;&gt;140621152740032+ -->\n",
       "<g id=\"edge16\" class=\"edge\">\n",
       "<title>140621152732832&#45;&gt;140621152740032+</title>\n",
       "<path fill=\"none\" stroke=\"black\" d=\"M638.4,-120.51C648.78,-121.95 658.6,-123.32 667.3,-124.53\"/>\n",
       "<polygon fill=\"black\" stroke=\"black\" points=\"666.94,-128.01 677.32,-125.93 667.9,-121.08 666.94,-128.01\"/>\n",
       "</g>\n",
       "<!-- 140621152732832* -->\n",
       "<g id=\"node14\" class=\"node\">\n",
       "<title>140621152732832*</title>\n",
       "<ellipse fill=\"none\" stroke=\"black\" cx=\"312\" cy=\"-102.5\" rx=\"27\" ry=\"18\"/>\n",
       "<text text-anchor=\"middle\" x=\"312\" y=\"-98.8\" font-family=\"Times,serif\" font-size=\"14.00\">*</text>\n",
       "</g>\n",
       "<!-- 140621152732832*&#45;&gt;140621152732832 -->\n",
       "<g id=\"edge6\" class=\"edge\">\n",
       "<title>140621152732832*&#45;&gt;140621152732832</title>\n",
       "<path fill=\"none\" stroke=\"black\" d=\"M339.16,-102.5C346.61,-102.5 355.28,-102.5 364.68,-102.5\"/>\n",
       "<polygon fill=\"black\" stroke=\"black\" points=\"364.73,-106 374.73,-102.5 364.73,-99 364.73,-106\"/>\n",
       "</g>\n",
       "<!-- 140621160155312 -->\n",
       "<g id=\"node15\" class=\"node\">\n",
       "<title>140621160155312</title>\n",
       "<polygon fill=\"none\" stroke=\"black\" points=\"1932.1,-55.5 1932.1,-91.5 2159.1,-91.5 2159.1,-55.5 1932.1,-55.5\"/>\n",
       "<text text-anchor=\"middle\" x=\"1942.6\" y=\"-69.8\" font-family=\"Times,serif\" font-size=\"14.00\"> </text>\n",
       "<polyline fill=\"none\" stroke=\"black\" points=\"1953.1,-55.5 1953.1,-91.5 \"/>\n",
       "<text text-anchor=\"middle\" x=\"2004.1\" y=\"-69.8\" font-family=\"Times,serif\" font-size=\"14.00\">data 5.8284</text>\n",
       "<polyline fill=\"none\" stroke=\"black\" points=\"2055.1,-55.5 2055.1,-91.5 \"/>\n",
       "<text text-anchor=\"middle\" x=\"2107.1\" y=\"-69.8\" font-family=\"Times,serif\" font-size=\"14.00\">grad 0.0429</text>\n",
       "</g>\n",
       "<!-- 140621160161936+ -->\n",
       "<g id=\"node20\" class=\"node\">\n",
       "<title>140621160161936+</title>\n",
       "<ellipse fill=\"none\" stroke=\"black\" cx=\"2224.6\" cy=\"-45.5\" rx=\"27\" ry=\"18\"/>\n",
       "<text text-anchor=\"middle\" x=\"2224.6\" y=\"-41.8\" font-family=\"Times,serif\" font-size=\"14.00\">+</text>\n",
       "</g>\n",
       "<!-- 140621160155312&#45;&gt;140621160161936+ -->\n",
       "<g id=\"edge15\" class=\"edge\">\n",
       "<title>140621160155312&#45;&gt;140621160161936+</title>\n",
       "<path fill=\"none\" stroke=\"black\" d=\"M2159.19,-55.69C2169.47,-54.06 2179.28,-52.51 2188,-51.13\"/>\n",
       "<polygon fill=\"black\" stroke=\"black\" points=\"2188.73,-54.56 2198.06,-49.54 2187.64,-47.64 2188.73,-54.56\"/>\n",
       "</g>\n",
       "<!-- 140621160155312&#45;&gt;140621160168320+ -->\n",
       "<g id=\"edge28\" class=\"edge\">\n",
       "<title>140621160155312&#45;&gt;140621160168320+</title>\n",
       "<path fill=\"none\" stroke=\"black\" d=\"M2159.19,-90.68C2169.47,-92.24 2179.28,-93.74 2188,-95.07\"/>\n",
       "<polygon fill=\"black\" stroke=\"black\" points=\"2187.65,-98.56 2198.06,-96.61 2188.7,-91.64 2187.65,-98.56\"/>\n",
       "</g>\n",
       "<!-- 140621160155312exp&#45;&gt;140621160155312 -->\n",
       "<g id=\"edge7\" class=\"edge\">\n",
       "<title>140621160155312exp&#45;&gt;140621160155312</title>\n",
       "<path fill=\"none\" stroke=\"black\" d=\"M1893.84,-73.5C1901.97,-73.5 1911.49,-73.5 1921.74,-73.5\"/>\n",
       "<polygon fill=\"black\" stroke=\"black\" points=\"1921.76,-77 1931.76,-73.5 1921.76,-70 1921.76,-77\"/>\n",
       "</g>\n",
       "<!-- 140621152740032 -->\n",
       "<g id=\"node17\" class=\"node\">\n",
       "<title>140621152740032</title>\n",
       "<polygon fill=\"none\" stroke=\"black\" points=\"767,-111.5 767,-147.5 1092,-147.5 1092,-111.5 767,-111.5\"/>\n",
       "<text text-anchor=\"middle\" x=\"824\" y=\"-125.8\" font-family=\"Times,serif\" font-size=\"14.00\">x1w1 + x2w2</text>\n",
       "<polyline fill=\"none\" stroke=\"black\" points=\"881,-111.5 881,-147.5 \"/>\n",
       "<text text-anchor=\"middle\" x=\"934.5\" y=\"-125.8\" font-family=\"Times,serif\" font-size=\"14.00\">data &#45;6.0000</text>\n",
       "<polyline fill=\"none\" stroke=\"black\" points=\"988,-111.5 988,-147.5 \"/>\n",
       "<text text-anchor=\"middle\" x=\"1040\" y=\"-125.8\" font-family=\"Times,serif\" font-size=\"14.00\">grad 0.5000</text>\n",
       "</g>\n",
       "<!-- 140621152740032&#45;&gt;140621152745024+ -->\n",
       "<g id=\"edge17\" class=\"edge\">\n",
       "<title>140621152740032&#45;&gt;140621152745024+</title>\n",
       "<path fill=\"none\" stroke=\"black\" d=\"M1074.26,-111.49C1090.41,-109.47 1105.59,-107.56 1118.28,-105.97\"/>\n",
       "<polygon fill=\"black\" stroke=\"black\" points=\"1118.84,-109.43 1128.32,-104.72 1117.96,-102.49 1118.84,-109.43\"/>\n",
       "</g>\n",
       "<!-- 140621152740032+&#45;&gt;140621152740032 -->\n",
       "<g id=\"edge8\" class=\"edge\">\n",
       "<title>140621152740032+&#45;&gt;140621152740032</title>\n",
       "<path fill=\"none\" stroke=\"black\" d=\"M731.08,-129.5C738.51,-129.5 747.21,-129.5 756.74,-129.5\"/>\n",
       "<polygon fill=\"black\" stroke=\"black\" points=\"756.95,-133 766.95,-129.5 756.95,-126 756.95,-133\"/>\n",
       "</g>\n",
       "<!-- 140621160161936 -->\n",
       "<g id=\"node19\" class=\"node\">\n",
       "<title>140621160161936</title>\n",
       "<polygon fill=\"none\" stroke=\"black\" points=\"2554.6,-27.5 2554.6,-63.5 2781.6,-63.5 2781.6,-27.5 2554.6,-27.5\"/>\n",
       "<text text-anchor=\"middle\" x=\"2565.1\" y=\"-41.8\" font-family=\"Times,serif\" font-size=\"14.00\"> </text>\n",
       "<polyline fill=\"none\" stroke=\"black\" points=\"2575.6,-27.5 2575.6,-63.5 \"/>\n",
       "<text text-anchor=\"middle\" x=\"2626.6\" y=\"-41.8\" font-family=\"Times,serif\" font-size=\"14.00\">data 4.8284</text>\n",
       "<polyline fill=\"none\" stroke=\"black\" points=\"2677.6,-27.5 2677.6,-63.5 \"/>\n",
       "<text text-anchor=\"middle\" x=\"2729.6\" y=\"-41.8\" font-family=\"Times,serif\" font-size=\"14.00\">grad 0.1464</text>\n",
       "</g>\n",
       "<!-- 140621160161936&#45;&gt;140621152735328* -->\n",
       "<g id=\"edge26\" class=\"edge\">\n",
       "<title>140621160161936&#45;&gt;140621152735328*</title>\n",
       "<path fill=\"none\" stroke=\"black\" d=\"M2781.76,-52.45C2877.02,-58.33 3007.68,-66.4 3070.28,-70.26\"/>\n",
       "<polygon fill=\"black\" stroke=\"black\" points=\"3070.24,-73.76 3080.44,-70.89 3070.68,-66.78 3070.24,-73.76\"/>\n",
       "</g>\n",
       "<!-- 140621160161936+&#45;&gt;140621160161936 -->\n",
       "<g id=\"edge9\" class=\"edge\">\n",
       "<title>140621160161936+&#45;&gt;140621160161936</title>\n",
       "<path fill=\"none\" stroke=\"black\" d=\"M2251.89,-45.5C2308.16,-45.5 2443.31,-45.5 2544.23,-45.5\"/>\n",
       "<polygon fill=\"black\" stroke=\"black\" points=\"2544.5,-49 2554.5,-45.5 2544.5,-42 2544.5,-49\"/>\n",
       "</g>\n",
       "<!-- 140621152747280 -->\n",
       "<g id=\"node21\" class=\"node\">\n",
       "<title>140621152747280</title>\n",
       "<polygon fill=\"none\" stroke=\"black\" points=\"813.5,-56.5 813.5,-92.5 1045.5,-92.5 1045.5,-56.5 813.5,-56.5\"/>\n",
       "<text text-anchor=\"middle\" x=\"826.5\" y=\"-70.8\" font-family=\"Times,serif\" font-size=\"14.00\">b</text>\n",
       "<polyline fill=\"none\" stroke=\"black\" points=\"839.5,-56.5 839.5,-92.5 \"/>\n",
       "<text text-anchor=\"middle\" x=\"890.5\" y=\"-70.8\" font-family=\"Times,serif\" font-size=\"14.00\">data 6.8814</text>\n",
       "<polyline fill=\"none\" stroke=\"black\" points=\"941.5,-56.5 941.5,-92.5 \"/>\n",
       "<text text-anchor=\"middle\" x=\"993.5\" y=\"-70.8\" font-family=\"Times,serif\" font-size=\"14.00\">grad 0.5000</text>\n",
       "</g>\n",
       "<!-- 140621152747280&#45;&gt;140621152745024+ -->\n",
       "<g id=\"edge13\" class=\"edge\">\n",
       "<title>140621152747280&#45;&gt;140621152745024+</title>\n",
       "<path fill=\"none\" stroke=\"black\" d=\"M1045.52,-88.4C1071.82,-91.57 1097.87,-94.72 1117.85,-97.13\"/>\n",
       "<polygon fill=\"black\" stroke=\"black\" points=\"1117.65,-100.63 1128,-98.36 1118.49,-93.68 1117.65,-100.63\"/>\n",
       "</g>\n",
       "<!-- 140621152742288 -->\n",
       "<g id=\"node22\" class=\"node\">\n",
       "<title>140621152742288</title>\n",
       "<polygon fill=\"none\" stroke=\"black\" points=\"0,-84.5 0,-120.5 249,-120.5 249,-84.5 0,-84.5\"/>\n",
       "<text text-anchor=\"middle\" x=\"19\" y=\"-98.8\" font-family=\"Times,serif\" font-size=\"14.00\">w1</text>\n",
       "<polyline fill=\"none\" stroke=\"black\" points=\"38,-84.5 38,-120.5 \"/>\n",
       "<text text-anchor=\"middle\" x=\"91.5\" y=\"-98.8\" font-family=\"Times,serif\" font-size=\"14.00\">data &#45;3.0000</text>\n",
       "<polyline fill=\"none\" stroke=\"black\" points=\"145,-84.5 145,-120.5 \"/>\n",
       "<text text-anchor=\"middle\" x=\"197\" y=\"-98.8\" font-family=\"Times,serif\" font-size=\"14.00\">grad 1.0000</text>\n",
       "</g>\n",
       "<!-- 140621152742288&#45;&gt;140621152732832* -->\n",
       "<g id=\"edge19\" class=\"edge\">\n",
       "<title>140621152742288&#45;&gt;140621152732832*</title>\n",
       "<path fill=\"none\" stroke=\"black\" d=\"M249.23,-102.5C258.37,-102.5 267.05,-102.5 274.87,-102.5\"/>\n",
       "<polygon fill=\"black\" stroke=\"black\" points=\"274.95,-106 284.95,-102.5 274.95,-99 274.95,-106\"/>\n",
       "</g>\n",
       "<!-- 140621152742240 -->\n",
       "<g id=\"node23\" class=\"node\">\n",
       "<title>140621152742240</title>\n",
       "<polygon fill=\"none\" stroke=\"black\" points=\"2.5,-29.5 2.5,-65.5 246.5,-65.5 246.5,-29.5 2.5,-29.5\"/>\n",
       "<text text-anchor=\"middle\" x=\"19.5\" y=\"-43.8\" font-family=\"Times,serif\" font-size=\"14.00\">x1</text>\n",
       "<polyline fill=\"none\" stroke=\"black\" points=\"36.5,-29.5 36.5,-65.5 \"/>\n",
       "<text text-anchor=\"middle\" x=\"87.5\" y=\"-43.8\" font-family=\"Times,serif\" font-size=\"14.00\">data 2.0000</text>\n",
       "<polyline fill=\"none\" stroke=\"black\" points=\"138.5,-29.5 138.5,-65.5 \"/>\n",
       "<text text-anchor=\"middle\" x=\"192.5\" y=\"-43.8\" font-family=\"Times,serif\" font-size=\"14.00\">grad &#45;1.5000</text>\n",
       "</g>\n",
       "<!-- 140621152742240&#45;&gt;140621152732832* -->\n",
       "<g id=\"edge21\" class=\"edge\">\n",
       "<title>140621152742240&#45;&gt;140621152732832*</title>\n",
       "<path fill=\"none\" stroke=\"black\" d=\"M218.13,-65.54C228.63,-68.23 239.1,-71.22 249,-74.5 259.71,-78.04 271.05,-82.84 281.07,-87.46\"/>\n",
       "<polygon fill=\"black\" stroke=\"black\" points=\"279.67,-90.67 290.2,-91.79 282.67,-84.34 279.67,-90.67\"/>\n",
       "</g>\n",
       "<!-- 140621149846400 -->\n",
       "<g id=\"node24\" class=\"node\">\n",
       "<title>140621149846400</title>\n",
       "<polygon fill=\"none\" stroke=\"black\" points=\"4.5,-139.5 4.5,-175.5 244.5,-175.5 244.5,-139.5 4.5,-139.5\"/>\n",
       "<text text-anchor=\"middle\" x=\"21.5\" y=\"-153.8\" font-family=\"Times,serif\" font-size=\"14.00\">x2</text>\n",
       "<polyline fill=\"none\" stroke=\"black\" points=\"38.5,-139.5 38.5,-175.5 \"/>\n",
       "<text text-anchor=\"middle\" x=\"89.5\" y=\"-153.8\" font-family=\"Times,serif\" font-size=\"14.00\">data 0.0000</text>\n",
       "<polyline fill=\"none\" stroke=\"black\" points=\"140.5,-139.5 140.5,-175.5 \"/>\n",
       "<text text-anchor=\"middle\" x=\"192.5\" y=\"-153.8\" font-family=\"Times,serif\" font-size=\"14.00\">grad 0.5000</text>\n",
       "</g>\n",
       "<!-- 140621149846400&#45;&gt;140621152743008* -->\n",
       "<g id=\"edge22\" class=\"edge\">\n",
       "<title>140621149846400&#45;&gt;140621152743008*</title>\n",
       "<path fill=\"none\" stroke=\"black\" d=\"M244.55,-157.5C255.31,-157.5 265.54,-157.5 274.62,-157.5\"/>\n",
       "<polygon fill=\"black\" stroke=\"black\" points=\"274.7,-161 284.7,-157.5 274.7,-154 274.7,-161\"/>\n",
       "</g>\n",
       "<!-- 140621160168320 -->\n",
       "<g id=\"node25\" class=\"node\">\n",
       "<title>140621160168320</title>\n",
       "<polygon fill=\"none\" stroke=\"black\" points=\"2287.6,-82.5 2287.6,-118.5 2518.6,-118.5 2518.6,-82.5 2287.6,-82.5\"/>\n",
       "<text text-anchor=\"middle\" x=\"2298.1\" y=\"-96.8\" font-family=\"Times,serif\" font-size=\"14.00\"> </text>\n",
       "<polyline fill=\"none\" stroke=\"black\" points=\"2308.6,-82.5 2308.6,-118.5 \"/>\n",
       "<text text-anchor=\"middle\" x=\"2359.6\" y=\"-96.8\" font-family=\"Times,serif\" font-size=\"14.00\">data 6.8284</text>\n",
       "<polyline fill=\"none\" stroke=\"black\" points=\"2410.6,-82.5 2410.6,-118.5 \"/>\n",
       "<text text-anchor=\"middle\" x=\"2464.6\" y=\"-96.8\" font-family=\"Times,serif\" font-size=\"14.00\">grad &#45;0.1036</text>\n",
       "</g>\n",
       "<!-- 140621160168320&#45;&gt;140621160161792**&#45;1 -->\n",
       "<g id=\"edge11\" class=\"edge\">\n",
       "<title>140621160168320&#45;&gt;140621160161792**&#45;1</title>\n",
       "<path fill=\"none\" stroke=\"black\" d=\"M2518.69,-100.5C2558.38,-100.5 2600.17,-100.5 2629.25,-100.5\"/>\n",
       "<polygon fill=\"black\" stroke=\"black\" points=\"2629.37,-104 2639.37,-100.5 2629.37,-97 2629.37,-104\"/>\n",
       "</g>\n",
       "<!-- 140621160168320+&#45;&gt;140621160168320 -->\n",
       "<g id=\"edge10\" class=\"edge\">\n",
       "<title>140621160168320+&#45;&gt;140621160168320</title>\n",
       "<path fill=\"none\" stroke=\"black\" d=\"M2251.64,-100.5C2259.18,-100.5 2267.96,-100.5 2277.41,-100.5\"/>\n",
       "<polygon fill=\"black\" stroke=\"black\" points=\"2277.49,-104 2287.49,-100.5 2277.49,-97 2277.49,-104\"/>\n",
       "</g>\n",
       "<!-- 140621160162704 -->\n",
       "<g id=\"node27\" class=\"node\">\n",
       "<title>140621160162704</title>\n",
       "<polygon fill=\"none\" stroke=\"black\" points=\"1220.5,-28.5 1220.5,-64.5 1447.5,-64.5 1447.5,-28.5 1220.5,-28.5\"/>\n",
       "<text text-anchor=\"middle\" x=\"1231\" y=\"-42.8\" font-family=\"Times,serif\" font-size=\"14.00\"> </text>\n",
       "<polyline fill=\"none\" stroke=\"black\" points=\"1241.5,-28.5 1241.5,-64.5 \"/>\n",
       "<text text-anchor=\"middle\" x=\"1292.5\" y=\"-42.8\" font-family=\"Times,serif\" font-size=\"14.00\">data 2.0000</text>\n",
       "<polyline fill=\"none\" stroke=\"black\" points=\"1343.5,-28.5 1343.5,-64.5 \"/>\n",
       "<text text-anchor=\"middle\" x=\"1395.5\" y=\"-42.8\" font-family=\"Times,serif\" font-size=\"14.00\">grad 0.2203</text>\n",
       "</g>\n",
       "<!-- 140621160162704&#45;&gt;140621160168080* -->\n",
       "<g id=\"edge25\" class=\"edge\">\n",
       "<title>140621160162704&#45;&gt;140621160168080*</title>\n",
       "<path fill=\"none\" stroke=\"black\" d=\"M1447.6,-63.68C1457.87,-65.24 1467.68,-66.74 1476.4,-68.07\"/>\n",
       "<polygon fill=\"black\" stroke=\"black\" points=\"1476.05,-71.56 1486.47,-69.61 1477.11,-64.64 1476.05,-71.56\"/>\n",
       "</g>\n",
       "<!-- 140621160165824 -->\n",
       "<g id=\"node28\" class=\"node\">\n",
       "<title>140621160165824</title>\n",
       "<polygon fill=\"none\" stroke=\"black\" points=\"1929.6,-0.5 1929.6,-36.5 2161.6,-36.5 2161.6,-0.5 1929.6,-0.5\"/>\n",
       "<text text-anchor=\"middle\" x=\"1940.1\" y=\"-14.8\" font-family=\"Times,serif\" font-size=\"14.00\"> </text>\n",
       "<polyline fill=\"none\" stroke=\"black\" points=\"1950.6,-0.5 1950.6,-36.5 \"/>\n",
       "<text text-anchor=\"middle\" x=\"2004.1\" y=\"-14.8\" font-family=\"Times,serif\" font-size=\"14.00\">data &#45;1.0000</text>\n",
       "<polyline fill=\"none\" stroke=\"black\" points=\"2057.6,-0.5 2057.6,-36.5 \"/>\n",
       "<text text-anchor=\"middle\" x=\"2109.6\" y=\"-14.8\" font-family=\"Times,serif\" font-size=\"14.00\">grad 0.1464</text>\n",
       "</g>\n",
       "<!-- 140621160165824&#45;&gt;140621160161936+ -->\n",
       "<g id=\"edge23\" class=\"edge\">\n",
       "<title>140621160165824&#45;&gt;140621160161936+</title>\n",
       "<path fill=\"none\" stroke=\"black\" d=\"M2161.69,-36.06C2171.05,-37.49 2179.98,-38.85 2188,-40.07\"/>\n",
       "<polygon fill=\"black\" stroke=\"black\" points=\"2187.55,-43.54 2197.96,-41.59 2188.61,-36.62 2187.55,-43.54\"/>\n",
       "</g>\n",
       "</g>\n",
       "</svg>\n"
      ],
      "text/plain": [
       "<graphviz.graphs.Digraph at 0x7fe4ea3648e0>"
      ]
     },
     "execution_count": 670,
     "metadata": {},
     "output_type": "execute_result"
    }
   ],
   "source": [
    "# inputs x1, x2\n",
    "x1 = Value(2.0, label=\"x1\")\n",
    "x2 = Value(0.0, label=\"x2\")\n",
    "\n",
    "# weights w1, w2\n",
    "w1 = Value(-3.0, label=\"w1\")\n",
    "w2 = Value(1.0, label=\"w2\")\n",
    "\n",
    "# bias of the neuron\n",
    "b = Value(6.8813735870195432, label=\"b\")\n",
    "\n",
    "# x1*w1 + x2*w2 + b\n",
    "x1w1 = x1 * w1; x1w1.label = \"x1w1\"\n",
    "x2w2 = x2 * w2; x2w2.label = \"x2w2\"\n",
    "\n",
    "x1w1x2w2 = x1w1 + x2w2; x1w1x2w2.label = \"x1w1 + x2w2\"\n",
    "n = x1w1x2w2 + b; n.label = \"n\"\n",
    "\n",
    "e = (2*n).exp()\n",
    "o = (e - 1) / (e + 1)\n",
    "\n",
    "o.label = \"o\"\n",
    "\n",
    "o.backward()\n",
    "draw_dot(o)\n"
   ]
  },
  {
   "cell_type": "code",
   "execution_count": 671,
   "metadata": {},
   "outputs": [
    {
     "name": "stdout",
     "output_type": "stream",
     "text": [
      "0.7071066904050358\n",
      "---\n",
      "x2 0.5000001283844369\n",
      "w2 0.0\n",
      "x1 -1.5000003851533106\n",
      "w1 1.0000002567688737\n"
     ]
    }
   ],
   "source": [
    "import torch\n",
    "\n",
    "x1 = torch.Tensor([2.0]).double(); x1.requires_grad = True\n",
    "x2 = torch.Tensor([0.0]).double(); x2.requires_grad = True\n",
    "w1 = torch.Tensor([-3.0]).double(); w1.requires_grad = True\n",
    "w2 = torch.Tensor([1.0]).double(); w2.requires_grad = True\n",
    "\n",
    "b = torch.Tensor([6.8813735870195432]).double(); b.requires_grad = True\n",
    "n = x1 * w1 + x2 * w2 + b\n",
    "o = torch.tanh(n)\n",
    "\n",
    "print(o.data.item())\n",
    "o.backward()\n",
    "\n",
    "print(\"---\")\n",
    "print(\"x2\", x2.grad.item())\n",
    "print(\"w2\", w2.grad.item())\n",
    "print(\"x1\", x1.grad.item())\n",
    "print(\"w1\", w1.grad.item())\n"
   ]
  },
  {
   "cell_type": "code",
   "execution_count": 672,
   "metadata": {},
   "outputs": [],
   "source": [
    "\n",
    "import random\n",
    "\n",
    "\n",
    "class Neuron:\n",
    "\n",
    "    def __init__(self, nin):\n",
    "        self.w = [Value(random.uniform(-1, 1)) for _ in range(nin)]\n",
    "        self.b = Value(random.uniform(-1, 1))\n",
    "    \n",
    "    def __call__(self, x):\n",
    "        # w * x + b\n",
    "        act = sum((wi * xi for wi, xi in zip(self.w, x)), self.b)\n",
    "        out = act.tanh()\n",
    "        return out\n",
    "    \n",
    "    def parameters(self):\n",
    "        return self.w + [self.b]\n",
    "\n",
    "\n",
    "class Layer:\n",
    "\n",
    "    def __init__(self, nin, nout):\n",
    "        self.neurons = [Neuron(nin) for _ in range(nout)]\n",
    "    \n",
    "    def __call__(self, x):\n",
    "        outs = [n(x) for n in self.neurons]\n",
    "        return outs[0] if len(outs) == 1 else outs\n",
    "    \n",
    "    def parameters(self):\n",
    "        return [p for neuron in self.neurons for p in neuron.parameters()]\n",
    "\n",
    "\n",
    "class MLP:\n",
    "\n",
    "    def __init__(self, nin, nouts):\n",
    "        sz = [nin] + nouts\n",
    "        self.layers = [Layer(sz[i], sz[i+1]) for i in range(len(nouts))]\n",
    "    \n",
    "\n",
    "    def __call__(self, x):\n",
    "        for layer in self.layers:\n",
    "            x = layer(x)\n",
    "        return x\n",
    "    \n",
    "    def parameters(self):\n",
    "        return [p for layer in self.layers for p in layer.parameters()]\n",
    "\n"
   ]
  },
  {
   "cell_type": "code",
   "execution_count": 673,
   "metadata": {},
   "outputs": [
    {
     "data": {
      "text/plain": [
       "Value(data=-0.8632385704597962)_tanh"
      ]
     },
     "execution_count": 673,
     "metadata": {},
     "output_type": "execute_result"
    }
   ],
   "source": [
    "x = [2.0, 3.0, -1.0]\n",
    "n = MLP(3, [4, 4, 1])\n",
    "n(x)"
   ]
  },
  {
   "cell_type": "code",
   "execution_count": 674,
   "metadata": {},
   "outputs": [],
   "source": [
    "\n",
    "xs = [\n",
    "    [2.0, 3.0, -1.0],\n",
    "    [3.0, -1.0, 0.5],\n",
    "    [0.5, 1.0, 1.0],\n",
    "    [1.0, 1.0, -1.0],\n",
    "]\n",
    "\n",
    "ys = [1.0, -1.0, -1.0, 1.0] # desired targets\n"
   ]
  },
  {
   "cell_type": "code",
   "execution_count": 709,
   "metadata": {},
   "outputs": [
    {
     "name": "stdout",
     "output_type": "stream",
     "text": [
      "0 0.002822243292613917\n",
      "1 0.002819182234960707\n",
      "2 0.0028161276174275543\n",
      "3 0.002813079419949882\n",
      "4 0.0028100376225458235\n",
      "5 0.0028070022053158263\n",
      "6 0.0028039731484421106\n",
      "7 0.0028009504321884785\n",
      "8 0.0027979340368996224\n",
      "9 0.0027949239430009208\n",
      "10 0.002791920130997937\n",
      "11 0.0027889225814760293\n",
      "12 0.0027859312750999248\n",
      "13 0.0027829461926133464\n",
      "14 0.0027799673148385957\n",
      "15 0.0027769946226761846\n",
      "16 0.002774028097104356\n",
      "17 0.0027710677191788245\n",
      "18 0.00276811347003221\n",
      "19 0.002765165330873843\n",
      "20 0.0027622232829891966\n",
      "21 0.002759287307739635\n",
      "22 0.0027563573865619687\n",
      "23 0.002753433500968086\n",
      "24 0.002750515632544584\n",
      "25 0.002747603762952377\n",
      "26 0.0027446978739263357\n",
      "27 0.0027417979472749193\n",
      "28 0.0027389039648797963\n",
      "29 0.0027360159086954857\n",
      "30 0.0027331337607489955\n",
      "31 0.002730257503139445\n",
      "32 0.0027273871180377163\n",
      "33 0.0027245225876861142\n",
      "34 0.002721663894397961\n",
      "35 0.0027188110205573182\n",
      "36 0.0027159639486185622\n",
      "37 0.002713122661106052\n",
      "38 0.002710287140613824\n",
      "39 0.0027074573698052133\n",
      "40 0.002704633331412487\n",
      "41 0.0027018150082365774\n",
      "42 0.0026990023831466514\n",
      "43 0.0026961954390798434\n",
      "44 0.0026933941590409206\n",
      "45 0.0026905985261018233\n",
      "46 0.002687808523401578\n",
      "47 0.002685024134145744\n",
      "48 0.002682245341606137\n",
      "49 0.0026794721291206166\n"
     ]
    }
   ],
   "source": [
    "for k in range(50):\n",
    "    # forward pass\n",
    "    ypred = [n(x) for x in xs]\n",
    "    loss = sum([(yout - ygt)**2 for ygt, yout in zip(ys, ypred)])\n",
    "\n",
    "    # backward pass\n",
    "    for p in n.parameters():\n",
    "        p.grad = 0.0\n",
    "    \n",
    "    loss.backward()\n",
    "\n",
    "    # update\n",
    "    for p in n.parameters():\n",
    "        p.data += -0.01 * p.grad\n",
    "    \n",
    "    print(k, loss.data, )\n",
    "\n",
    "\n"
   ]
  },
  {
   "cell_type": "code",
   "execution_count": 710,
   "metadata": {},
   "outputs": [
    {
     "data": {
      "text/plain": [
       "[Value(data=0.9807726126414054)_tanh,\n",
       " Value(data=-0.9874052818719625)_tanh,\n",
       " Value(data=-0.965635918843678)_tanh,\n",
       " Value(data=0.9688509597894225)_tanh]"
      ]
     },
     "execution_count": 710,
     "metadata": {},
     "output_type": "execute_result"
    }
   ],
   "source": [
    "ypred\n"
   ]
  },
  {
   "cell_type": "code",
   "execution_count": null,
   "metadata": {},
   "outputs": [],
   "source": []
  }
 ],
 "metadata": {
  "kernelspec": {
   "display_name": "Python 3.10.6 ('dev_env')",
   "language": "python",
   "name": "python3"
  },
  "language_info": {
   "codemirror_mode": {
    "name": "ipython",
    "version": 3
   },
   "file_extension": ".py",
   "mimetype": "text/x-python",
   "name": "python",
   "nbconvert_exporter": "python",
   "pygments_lexer": "ipython3",
   "version": "3.10.6"
  },
  "orig_nbformat": 4,
  "vscode": {
   "interpreter": {
    "hash": "d7bb1b9f6447bb689f799facb2b5afc37973dc5c3309b05761a855a1eaeddf2d"
   }
  }
 },
 "nbformat": 4,
 "nbformat_minor": 2
}
