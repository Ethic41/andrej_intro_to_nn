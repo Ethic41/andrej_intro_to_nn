{
 "cells": [
  {
   "cell_type": "code",
   "execution_count": 174,
   "metadata": {},
   "outputs": [],
   "source": [
    "#!/usr/bin/env python\n",
    "# -=-<[ Bismillahirrahmanirrahim ]>-=-\n",
    "# -*- coding: utf-8 -*-\n",
    "# @Date    : 2022-11-06 00:07:21\n",
    "# @Author  : Dahir Muhammad Dahir (dahirmuhammad3@gmail.com)\n",
    "# @Link    : link\n",
    "# @About : Intro to neural networks by Andrej Karpathy\n",
    "\n",
    "\n",
    "import math\n",
    "import numpy as np\n",
    "import matplotlib.pyplot as plt\n",
    "\n",
    "%matplotlib inline\n"
   ]
  },
  {
   "cell_type": "code",
   "execution_count": 175,
   "metadata": {},
   "outputs": [],
   "source": [
    "def f(x):\n",
    "    return 3 * x ** 2 - 4 * x + 5"
   ]
  },
  {
   "cell_type": "code",
   "execution_count": 176,
   "metadata": {},
   "outputs": [
    {
     "data": {
      "text/plain": [
       "20"
      ]
     },
     "execution_count": 176,
     "metadata": {},
     "output_type": "execute_result"
    }
   ],
   "source": [
    "f(3)"
   ]
  },
  {
   "cell_type": "code",
   "execution_count": 177,
   "metadata": {},
   "outputs": [
    {
     "data": {
      "text/plain": [
       "array([-5.  , -4.75, -4.5 , -4.25, -4.  , -3.75, -3.5 , -3.25, -3.  ,\n",
       "       -2.75, -2.5 , -2.25, -2.  , -1.75, -1.5 , -1.25, -1.  , -0.75,\n",
       "       -0.5 , -0.25,  0.  ,  0.25,  0.5 ,  0.75,  1.  ,  1.25,  1.5 ,\n",
       "        1.75,  2.  ,  2.25,  2.5 ,  2.75,  3.  ,  3.25,  3.5 ,  3.75,\n",
       "        4.  ,  4.25,  4.5 ,  4.75])"
      ]
     },
     "execution_count": 177,
     "metadata": {},
     "output_type": "execute_result"
    }
   ],
   "source": [
    "xs = np.arange(-5, 5, 0.25)\n",
    "xs"
   ]
  },
  {
   "cell_type": "code",
   "execution_count": 178,
   "metadata": {},
   "outputs": [
    {
     "data": {
      "text/plain": [
       "array([100.    ,  91.6875,  83.75  ,  76.1875,  69.    ,  62.1875,\n",
       "        55.75  ,  49.6875,  44.    ,  38.6875,  33.75  ,  29.1875,\n",
       "        25.    ,  21.1875,  17.75  ,  14.6875,  12.    ,   9.6875,\n",
       "         7.75  ,   6.1875,   5.    ,   4.1875,   3.75  ,   3.6875,\n",
       "         4.    ,   4.6875,   5.75  ,   7.1875,   9.    ,  11.1875,\n",
       "        13.75  ,  16.6875,  20.    ,  23.6875,  27.75  ,  32.1875,\n",
       "        37.    ,  42.1875,  47.75  ,  53.6875])"
      ]
     },
     "execution_count": 178,
     "metadata": {},
     "output_type": "execute_result"
    }
   ],
   "source": [
    "ys = f(xs)\n",
    "ys"
   ]
  },
  {
   "cell_type": "code",
   "execution_count": 179,
   "metadata": {},
   "outputs": [
    {
     "data": {
      "text/plain": [
       "[<matplotlib.lines.Line2D at 0x7f1e986e92d0>]"
      ]
     },
     "execution_count": 179,
     "metadata": {},
     "output_type": "execute_result"
    },
    {
     "data": {
      "image/png": "[encoded data removed]",
      "text/plain": [
       "<Figure size 432x288 with 1 Axes>"
      ]
     },
     "metadata": {
      "needs_background": "light"
     },
     "output_type": "display_data"
    }
   ],
   "source": [
    "plt.plot(xs, ys)"
   ]
  },
  {
   "cell_type": "code",
   "execution_count": 180,
   "metadata": {},
   "outputs": [
    {
     "data": {
      "text/plain": [
       "20.014003000000002"
      ]
     },
     "execution_count": 180,
     "metadata": {},
     "output_type": "execute_result"
    }
   ],
   "source": [
    "h = 0.001\n",
    "x = 3.0\n",
    "f(x + h)\n"
   ]
  },
  {
   "cell_type": "code",
   "execution_count": 181,
   "metadata": {},
   "outputs": [
    {
     "data": {
      "text/plain": [
       "0.01400300000000243"
      ]
     },
     "execution_count": 181,
     "metadata": {},
     "output_type": "execute_result"
    }
   ],
   "source": [
    "f(x + h) - f(x)"
   ]
  },
  {
   "cell_type": "code",
   "execution_count": 182,
   "metadata": {},
   "outputs": [
    {
     "data": {
      "text/plain": [
       "14.00300000000243"
      ]
     },
     "execution_count": 182,
     "metadata": {},
     "output_type": "execute_result"
    }
   ],
   "source": [
    "(f(x + h) - f(x)) / h"
   ]
  },
  {
   "cell_type": "code",
   "execution_count": 183,
   "metadata": {},
   "outputs": [
    {
     "data": {
      "text/plain": [
       "-21.996999999998934"
      ]
     },
     "execution_count": 183,
     "metadata": {},
     "output_type": "execute_result"
    }
   ],
   "source": [
    "x = -3.0\n",
    "\n",
    "(f(x + h) - f(x)) / h"
   ]
  },
  {
   "cell_type": "code",
   "execution_count": 184,
   "metadata": {},
   "outputs": [
    {
     "data": {
      "text/plain": [
       "2.999378523327323e-06"
      ]
     },
     "execution_count": 184,
     "metadata": {},
     "output_type": "execute_result"
    }
   ],
   "source": [
    "x = 2/3\n",
    "h = 0.000001\n",
    "\n",
    "(f(x + h) - f(x)) / h"
   ]
  },
  {
   "cell_type": "code",
   "execution_count": 185,
   "metadata": {},
   "outputs": [
    {
     "data": {
      "text/plain": [
       "4.0"
      ]
     },
     "execution_count": 185,
     "metadata": {},
     "output_type": "execute_result"
    }
   ],
   "source": [
    "# let's get more complex\n",
    "\n",
    "a = 2.0\n",
    "b = -3.0\n",
    "c = 10.0\n",
    "d = a * b + c\n",
    "d"
   ]
  },
  {
   "cell_type": "code",
   "execution_count": 186,
   "metadata": {},
   "outputs": [
    {
     "name": "stdout",
     "output_type": "stream",
     "text": [
      "d1 4.0\n",
      "d2 3.999699999999999\n",
      "slope -3.000000000010772\n"
     ]
    }
   ],
   "source": [
    "h = 0.0001\n",
    "\n",
    "# inputs\n",
    "a = 2.0\n",
    "b = -3.0\n",
    "c = 10.0\n",
    "\n",
    "d1 = a * b + c\n",
    "\n",
    "a += h\n",
    "\n",
    "d2 = a * b + c\n",
    "\n",
    "print(f'd1 {d1}')\n",
    "\n",
    "print(f'd2 {d2}')\n",
    "\n",
    "print(f'slope {(d2 - d1) / h}')"
   ]
  },
  {
   "cell_type": "code",
   "execution_count": 187,
   "metadata": {},
   "outputs": [
    {
     "name": "stdout",
     "output_type": "stream",
     "text": [
      "d1 4.0\n",
      "d2 4.0002\n",
      "slope 2.0000000000042206\n"
     ]
    }
   ],
   "source": [
    "h = 0.0001\n",
    "\n",
    "# inputs\n",
    "a = 2.0\n",
    "b = -3.0\n",
    "c = 10.0\n",
    "\n",
    "d1 = a * b + c\n",
    "\n",
    "b += h\n",
    "\n",
    "d2 = a * b + c\n",
    "\n",
    "print(f'd1 {d1}')\n",
    "\n",
    "print(f'd2 {d2}')\n",
    "\n",
    "print(f'slope {(d2 - d1) / h}')"
   ]
  },
  {
   "cell_type": "code",
   "execution_count": 188,
   "metadata": {},
   "outputs": [
    {
     "name": "stdout",
     "output_type": "stream",
     "text": [
      "d1 4.0\n",
      "d2 4.0001\n",
      "slope 0.9999999999976694\n"
     ]
    }
   ],
   "source": [
    "h = 0.0001\n",
    "\n",
    "# inputs\n",
    "a = 2.0\n",
    "b = -3.0\n",
    "c = 10.0\n",
    "\n",
    "d1 = a * b + c\n",
    "\n",
    "c += h\n",
    "\n",
    "d2 = a * b + c\n",
    "\n",
    "print(f'd1 {d1}')\n",
    "\n",
    "print(f'd2 {d2}')\n",
    "\n",
    "print(f'slope {(d2 - d1) / h}')"
   ]
  },
  {
   "cell_type": "code",
   "execution_count": 189,
   "metadata": {},
   "outputs": [
    {
     "data": {
      "text/plain": [
       "Value(data=10)_*"
      ]
     },
     "execution_count": 189,
     "metadata": {},
     "output_type": "execute_result"
    }
   ],
   "source": [
    "class Value:\n",
    "\n",
    "    def __init__(self, data, _children=(), _op='', label='') -> None:\n",
    "        self.data = data\n",
    "        self.grad = 0.0\n",
    "        self._backward = lambda: None\n",
    "        self._prev = set(_children)\n",
    "        self._op = _op\n",
    "        self.label = label\n",
    "    \n",
    "    def __repr__(self) -> str:\n",
    "        return f\"Value(data={self.data})_{self._op}\"\n",
    "    \n",
    "    def __add__(self, other):\n",
    "        other = other if isinstance(other, Value) else Value(other)\n",
    "        out = Value(self.data + other.data, (self, other), '+')\n",
    "        \n",
    "        def _backward():\n",
    "            self.grad += 1.0 * out.grad\n",
    "            other.grad += 1.0 * out.grad\n",
    "        \n",
    "        out._backward = _backward\n",
    "\n",
    "        return out\n",
    "    \n",
    "    def __mul__(self, other):\n",
    "        other = other if isinstance(other, Value) else Value(other)\n",
    "        out = Value(self.data * other.data, (self, other), '*')\n",
    "\n",
    "        def _backward():\n",
    "            self.grad += other.data * out.grad\n",
    "            other.grad += self.data * out.grad\n",
    "        \n",
    "        out._backward = _backward\n",
    "        \n",
    "        return out\n",
    "    \n",
    "    def __pow__(self, other):\n",
    "        assert isinstance(other, (int, float)), \"only supporting int/float powers for now\"\n",
    "        out = Value(self.data ** other, (self, ), f'**{other}')\n",
    "\n",
    "        def _backward():\n",
    "            self.grad += other * (self.data ** (other - 1)) * out.grad\n",
    "        \n",
    "        out._backward = _backward\n",
    "\n",
    "        return out\n",
    "    \n",
    "    def __rmul__(self, other):\n",
    "        return self * other\n",
    "    \n",
    "    def __truediv__(self, other):\n",
    "        return self * other**-1\n",
    "    \n",
    "    def __neg__(self):\n",
    "        return self * -1\n",
    "    \n",
    "    def __sub__(self, other):\n",
    "        return self + (-other)\n",
    "    \n",
    "    def tanh(self):\n",
    "        n = self.data\n",
    "        t = (math.exp(2*x) - 1) / (math.exp(2*x) + 1)\n",
    "        out = Value(t, (self, ), 'tanh')\n",
    "\n",
    "        def _backward():\n",
    "            self.grad += (1 - t**2) * out.grad\n",
    "        \n",
    "        out._backward = _backward\n",
    "\n",
    "        return out\n",
    "    \n",
    "    def exp(self):\n",
    "        x = self.data\n",
    "        out = Value(math.exp(x), (self, ), 'exp')\n",
    "\n",
    "        def _backward():\n",
    "            self.grad += out.data * out.grad\n",
    "        \n",
    "        out._backward = _backward\n",
    "        return out\n",
    "    \n",
    "    def backward(self):\n",
    "        topo = []\n",
    "        visited = set()\n",
    "\n",
    "        def build_topo(v):\n",
    "            if v not in visited:\n",
    "                visited.add(v)\n",
    "                for child in v._prev:\n",
    "                    build_topo(child)\n",
    "                topo.append(v)\n",
    "        \n",
    "        build_topo(self)\n",
    "\n",
    "        self.grad = 1.0\n",
    "\n",
    "        for node in reversed(topo):\n",
    "            node._backward()\n",
    "\n",
    "a = Value(5)\n",
    "\n",
    "2 * a"
   ]
  },
  {
   "cell_type": "code",
   "execution_count": 190,
   "metadata": {},
   "outputs": [],
   "source": [
    "from graphviz import Digraph\n",
    "\n",
    "def trace(root):\n",
    "    nodes, edges = set(), set()\n",
    "    def build(v):\n",
    "        if v not in nodes:\n",
    "            nodes.add(v)\n",
    "            for child in v._prev:\n",
    "                edges.add((child, v))\n",
    "                build(child)\n",
    "    build(root)\n",
    "    return nodes, edges\n",
    "\n",
    "\n",
    "def draw_dot(root, format='svg', rankdir='LR'):\n",
    "    nodes, edges = trace(root)\n",
    "    dot = Digraph(format=format, graph_attr={'rankdir': rankdir}) #, node_attr={'rankdir': 'TB'})\n",
    "    \n",
    "    for n in nodes:\n",
    "        dot.node(name=str(id(n)), label = \"{ %s | data %.4f | grad %.4f }\" % (n.label, n.data, n.grad ), shape='record')\n",
    "        if n._op:\n",
    "            dot.node(name=str(id(n)) + n._op, label=n._op)\n",
    "            dot.edge(str(id(n)) + n._op, str(id(n)))\n",
    "    \n",
    "    for n1, n2 in edges:\n",
    "        dot.edge(str(id(n1)), str(id(n2)) + n2._op)\n",
    "    \n",
    "    return dot"
   ]
  },
  {
   "cell_type": "code",
   "execution_count": 191,
   "metadata": {},
   "outputs": [
    {
     "data": {
      "image/svg+xml": [
       "<?xml version=\"1.0\" encoding=\"UTF-8\" standalone=\"no\"?>\n",
       "<!DOCTYPE svg PUBLIC \"-//W3C//DTD SVG 1.1//EN\"\n",
       " \"http://www.w3.org/Graphics/SVG/1.1/DTD/svg11.dtd\">\n",
       "<!-- Generated by graphviz version 2.43.0 (0)\n",
       " -->\n",
       "<!-- Title: %3 Pages: 1 -->\n",
       "<svg width=\"597pt\" height=\"45pt\"\n",
       " viewBox=\"0.00 0.00 597.00 45.00\" xmlns=\"http://www.w3.org/2000/svg\" xmlns:xlink=\"http://www.w3.org/1999/xlink\">\n",
       "<g id=\"graph0\" class=\"graph\" transform=\"scale(1 1) rotate(0) translate(4 41)\">\n",
       "<title>%3</title>\n",
       "<polygon fill=\"white\" stroke=\"transparent\" points=\"-4,4 -4,-41 593,-41 593,4 -4,4\"/>\n",
       "<!-- 139769383032320 -->\n",
       "<g id=\"node1\" class=\"node\">\n",
       "<title>139769383032320</title>\n",
       "<polygon fill=\"none\" stroke=\"black\" points=\"0,-0.5 0,-36.5 231,-36.5 231,-0.5 0,-0.5\"/>\n",
       "<text text-anchor=\"middle\" x=\"12.5\" y=\"-14.8\" font-family=\"Times,serif\" font-size=\"14.00\">a</text>\n",
       "<polyline fill=\"none\" stroke=\"black\" points=\"25,-0.5 25,-36.5 \"/>\n",
       "<text text-anchor=\"middle\" x=\"76\" y=\"-14.8\" font-family=\"Times,serif\" font-size=\"14.00\">data 3.0000</text>\n",
       "<polyline fill=\"none\" stroke=\"black\" points=\"127,-0.5 127,-36.5 \"/>\n",
       "<text text-anchor=\"middle\" x=\"179\" y=\"-14.8\" font-family=\"Times,serif\" font-size=\"14.00\">grad 2.0000</text>\n",
       "</g>\n",
       "<!-- 139769392809200+ -->\n",
       "<g id=\"node3\" class=\"node\">\n",
       "<title>139769392809200+</title>\n",
       "<ellipse fill=\"none\" stroke=\"black\" cx=\"294\" cy=\"-18.5\" rx=\"27\" ry=\"18\"/>\n",
       "<text text-anchor=\"middle\" x=\"294\" y=\"-14.8\" font-family=\"Times,serif\" font-size=\"14.00\">+</text>\n",
       "</g>\n",
       "<!-- 139769383032320&#45;&gt;139769392809200+ -->\n",
       "<g id=\"edge2\" class=\"edge\">\n",
       "<title>139769383032320&#45;&gt;139769392809200+</title>\n",
       "<path fill=\"none\" stroke=\"black\" d=\"M231.27,-18.5C240.32,-18.5 248.97,-18.5 256.76,-18.5\"/>\n",
       "<polygon fill=\"black\" stroke=\"black\" points=\"256.84,-22 266.84,-18.5 256.84,-15 256.84,-22\"/>\n",
       "</g>\n",
       "<!-- 139769392809200 -->\n",
       "<g id=\"node2\" class=\"node\">\n",
       "<title>139769392809200</title>\n",
       "<polygon fill=\"none\" stroke=\"black\" points=\"357,-0.5 357,-36.5 589,-36.5 589,-0.5 357,-0.5\"/>\n",
       "<text text-anchor=\"middle\" x=\"370\" y=\"-14.8\" font-family=\"Times,serif\" font-size=\"14.00\">b</text>\n",
       "<polyline fill=\"none\" stroke=\"black\" points=\"383,-0.5 383,-36.5 \"/>\n",
       "<text text-anchor=\"middle\" x=\"434\" y=\"-14.8\" font-family=\"Times,serif\" font-size=\"14.00\">data 6.0000</text>\n",
       "<polyline fill=\"none\" stroke=\"black\" points=\"485,-0.5 485,-36.5 \"/>\n",
       "<text text-anchor=\"middle\" x=\"537\" y=\"-14.8\" font-family=\"Times,serif\" font-size=\"14.00\">grad 1.0000</text>\n",
       "</g>\n",
       "<!-- 139769392809200+&#45;&gt;139769392809200 -->\n",
       "<g id=\"edge1\" class=\"edge\">\n",
       "<title>139769392809200+&#45;&gt;139769392809200</title>\n",
       "<path fill=\"none\" stroke=\"black\" d=\"M321.12,-18.5C328.53,-18.5 337.14,-18.5 346.4,-18.5\"/>\n",
       "<polygon fill=\"black\" stroke=\"black\" points=\"346.69,-22 356.69,-18.5 346.69,-15 346.69,-22\"/>\n",
       "</g>\n",
       "</g>\n",
       "</svg>\n"
      ],
      "text/plain": [
       "<graphviz.graphs.Digraph at 0x7f1e98552e60>"
      ]
     },
     "execution_count": 191,
     "metadata": {},
     "output_type": "execute_result"
    }
   ],
   "source": [
    "a = Value(3.0, label='a')\n",
    "b = a + a; b.label = 'b'\n",
    "b.backward()\n",
    "draw_dot(b)"
   ]
  },
  {
   "cell_type": "code",
   "execution_count": 194,
   "metadata": {},
   "outputs": [
    {
     "data": {
      "image/svg+xml": [
       "<?xml version=\"1.0\" encoding=\"UTF-8\" standalone=\"no\"?>\n",
       "<!DOCTYPE svg PUBLIC \"-//W3C//DTD SVG 1.1//EN\"\n",
       " \"http://www.w3.org/Graphics/SVG/1.1/DTD/svg11.dtd\">\n",
       "<!-- Generated by graphviz version 2.43.0 (0)\n",
       " -->\n",
       "<!-- Title: %3 Pages: 1 -->\n",
       "<svg width=\"3410pt\" height=\"236pt\"\n",
       " viewBox=\"0.00 0.00 3409.60 236.00\" xmlns=\"http://www.w3.org/2000/svg\" xmlns:xlink=\"http://www.w3.org/1999/xlink\">\n",
       "<g id=\"graph0\" class=\"graph\" transform=\"scale(1 1) rotate(0) translate(4 232)\">\n",
       "<title>%3</title>\n",
       "<polygon fill=\"white\" stroke=\"transparent\" points=\"-4,4 -4,-232 3405.6,-232 3405.6,4 -4,4\"/>\n",
       "<!-- 139769381556752 -->\n",
       "<g id=\"node1\" class=\"node\">\n",
       "<title>139769381556752</title>\n",
       "<polygon fill=\"none\" stroke=\"black\" points=\"3170.6,-135.5 3170.6,-171.5 3401.6,-171.5 3401.6,-135.5 3170.6,-135.5\"/>\n",
       "<text text-anchor=\"middle\" x=\"3183.1\" y=\"-149.8\" font-family=\"Times,serif\" font-size=\"14.00\">o</text>\n",
       "<polyline fill=\"none\" stroke=\"black\" points=\"3195.6,-135.5 3195.6,-171.5 \"/>\n",
       "<text text-anchor=\"middle\" x=\"3246.6\" y=\"-149.8\" font-family=\"Times,serif\" font-size=\"14.00\">data 0.7071</text>\n",
       "<polyline fill=\"none\" stroke=\"black\" points=\"3297.6,-135.5 3297.6,-171.5 \"/>\n",
       "<text text-anchor=\"middle\" x=\"3349.6\" y=\"-149.8\" font-family=\"Times,serif\" font-size=\"14.00\">grad 1.0000</text>\n",
       "</g>\n",
       "<!-- 139769381556752* -->\n",
       "<g id=\"node2\" class=\"node\">\n",
       "<title>139769381556752*</title>\n",
       "<ellipse fill=\"none\" stroke=\"black\" cx=\"3107.6\" cy=\"-153.5\" rx=\"27\" ry=\"18\"/>\n",
       "<text text-anchor=\"middle\" x=\"3107.6\" y=\"-149.8\" font-family=\"Times,serif\" font-size=\"14.00\">*</text>\n",
       "</g>\n",
       "<!-- 139769381556752*&#45;&gt;139769381556752 -->\n",
       "<g id=\"edge1\" class=\"edge\">\n",
       "<title>139769381556752*&#45;&gt;139769381556752</title>\n",
       "<path fill=\"none\" stroke=\"black\" d=\"M3134.64,-153.5C3142.18,-153.5 3150.96,-153.5 3160.41,-153.5\"/>\n",
       "<polygon fill=\"black\" stroke=\"black\" points=\"3160.49,-157 3170.49,-153.5 3160.49,-150 3160.49,-157\"/>\n",
       "</g>\n",
       "<!-- 139769381468192 -->\n",
       "<g id=\"node3\" class=\"node\">\n",
       "<title>139769381468192</title>\n",
       "<polygon fill=\"none\" stroke=\"black\" points=\"813.5,-137.5 813.5,-173.5 1045.5,-173.5 1045.5,-137.5 813.5,-137.5\"/>\n",
       "<text text-anchor=\"middle\" x=\"826.5\" y=\"-151.8\" font-family=\"Times,serif\" font-size=\"14.00\">b</text>\n",
       "<polyline fill=\"none\" stroke=\"black\" points=\"839.5,-137.5 839.5,-173.5 \"/>\n",
       "<text text-anchor=\"middle\" x=\"890.5\" y=\"-151.8\" font-family=\"Times,serif\" font-size=\"14.00\">data 6.8814</text>\n",
       "<polyline fill=\"none\" stroke=\"black\" points=\"941.5,-137.5 941.5,-173.5 \"/>\n",
       "<text text-anchor=\"middle\" x=\"993.5\" y=\"-151.8\" font-family=\"Times,serif\" font-size=\"14.00\">grad 0.5000</text>\n",
       "</g>\n",
       "<!-- 139769383037888+ -->\n",
       "<g id=\"node25\" class=\"node\">\n",
       "<title>139769383037888+</title>\n",
       "<ellipse fill=\"none\" stroke=\"black\" cx=\"1155\" cy=\"-127.5\" rx=\"27\" ry=\"18\"/>\n",
       "<text text-anchor=\"middle\" x=\"1155\" y=\"-123.8\" font-family=\"Times,serif\" font-size=\"14.00\">+</text>\n",
       "</g>\n",
       "<!-- 139769381468192&#45;&gt;139769383037888+ -->\n",
       "<g id=\"edge11\" class=\"edge\">\n",
       "<title>139769381468192&#45;&gt;139769383037888+</title>\n",
       "<path fill=\"none\" stroke=\"black\" d=\"M1045.52,-141.09C1072,-137.77 1098.23,-134.49 1118.26,-131.98\"/>\n",
       "<polygon fill=\"black\" stroke=\"black\" points=\"1118.94,-135.42 1128.43,-130.7 1118.07,-128.47 1118.94,-135.42\"/>\n",
       "</g>\n",
       "<!-- 139769394992688 -->\n",
       "<g id=\"node4\" class=\"node\">\n",
       "<title>139769394992688</title>\n",
       "<polygon fill=\"none\" stroke=\"black\" points=\"2554.6,-108.5 2554.6,-144.5 2781.6,-144.5 2781.6,-108.5 2554.6,-108.5\"/>\n",
       "<text text-anchor=\"middle\" x=\"2565.1\" y=\"-122.8\" font-family=\"Times,serif\" font-size=\"14.00\"> </text>\n",
       "<polyline fill=\"none\" stroke=\"black\" points=\"2575.6,-108.5 2575.6,-144.5 \"/>\n",
       "<text text-anchor=\"middle\" x=\"2626.6\" y=\"-122.8\" font-family=\"Times,serif\" font-size=\"14.00\">data 4.8284</text>\n",
       "<polyline fill=\"none\" stroke=\"black\" points=\"2677.6,-108.5 2677.6,-144.5 \"/>\n",
       "<text text-anchor=\"middle\" x=\"2729.6\" y=\"-122.8\" font-family=\"Times,serif\" font-size=\"14.00\">grad 0.1464</text>\n",
       "</g>\n",
       "<!-- 139769394992688&#45;&gt;139769381556752* -->\n",
       "<g id=\"edge14\" class=\"edge\">\n",
       "<title>139769394992688&#45;&gt;139769381556752*</title>\n",
       "<path fill=\"none\" stroke=\"black\" d=\"M2781.76,-133.45C2877.02,-139.33 3007.68,-147.4 3070.28,-151.26\"/>\n",
       "<polygon fill=\"black\" stroke=\"black\" points=\"3070.24,-154.76 3080.44,-151.89 3070.68,-147.78 3070.24,-154.76\"/>\n",
       "</g>\n",
       "<!-- 139769394992688+ -->\n",
       "<g id=\"node5\" class=\"node\">\n",
       "<title>139769394992688+</title>\n",
       "<ellipse fill=\"none\" stroke=\"black\" cx=\"2224.6\" cy=\"-126.5\" rx=\"27\" ry=\"18\"/>\n",
       "<text text-anchor=\"middle\" x=\"2224.6\" y=\"-122.8\" font-family=\"Times,serif\" font-size=\"14.00\">+</text>\n",
       "</g>\n",
       "<!-- 139769394992688+&#45;&gt;139769394992688 -->\n",
       "<g id=\"edge2\" class=\"edge\">\n",
       "<title>139769394992688+&#45;&gt;139769394992688</title>\n",
       "<path fill=\"none\" stroke=\"black\" d=\"M2251.89,-126.5C2308.16,-126.5 2443.31,-126.5 2544.23,-126.5\"/>\n",
       "<polygon fill=\"black\" stroke=\"black\" points=\"2544.5,-130 2554.5,-126.5 2544.5,-123 2544.5,-130\"/>\n",
       "</g>\n",
       "<!-- 139769381467712 -->\n",
       "<g id=\"node6\" class=\"node\">\n",
       "<title>139769381467712</title>\n",
       "<polygon fill=\"none\" stroke=\"black\" points=\"0,-55.5 0,-91.5 249,-91.5 249,-55.5 0,-55.5\"/>\n",
       "<text text-anchor=\"middle\" x=\"19\" y=\"-69.8\" font-family=\"Times,serif\" font-size=\"14.00\">w1</text>\n",
       "<polyline fill=\"none\" stroke=\"black\" points=\"38,-55.5 38,-91.5 \"/>\n",
       "<text text-anchor=\"middle\" x=\"91.5\" y=\"-69.8\" font-family=\"Times,serif\" font-size=\"14.00\">data &#45;3.0000</text>\n",
       "<polyline fill=\"none\" stroke=\"black\" points=\"145,-55.5 145,-91.5 \"/>\n",
       "<text text-anchor=\"middle\" x=\"197\" y=\"-69.8\" font-family=\"Times,serif\" font-size=\"14.00\">grad 1.0000</text>\n",
       "</g>\n",
       "<!-- 139769381455760* -->\n",
       "<g id=\"node23\" class=\"node\">\n",
       "<title>139769381455760*</title>\n",
       "<ellipse fill=\"none\" stroke=\"black\" cx=\"312\" cy=\"-73.5\" rx=\"27\" ry=\"18\"/>\n",
       "<text text-anchor=\"middle\" x=\"312\" y=\"-69.8\" font-family=\"Times,serif\" font-size=\"14.00\">*</text>\n",
       "</g>\n",
       "<!-- 139769381467712&#45;&gt;139769381455760* -->\n",
       "<g id=\"edge20\" class=\"edge\">\n",
       "<title>139769381467712&#45;&gt;139769381455760*</title>\n",
       "<path fill=\"none\" stroke=\"black\" d=\"M249.23,-73.5C258.37,-73.5 267.05,-73.5 274.87,-73.5\"/>\n",
       "<polygon fill=\"black\" stroke=\"black\" points=\"274.95,-77 284.95,-73.5 274.95,-70 274.95,-77\"/>\n",
       "</g>\n",
       "<!-- 139769381560688 -->\n",
       "<g id=\"node7\" class=\"node\">\n",
       "<title>139769381560688</title>\n",
       "<polygon fill=\"none\" stroke=\"black\" points=\"2817.6,-161.5 2817.6,-197.5 3044.6,-197.5 3044.6,-161.5 2817.6,-161.5\"/>\n",
       "<text text-anchor=\"middle\" x=\"2828.1\" y=\"-175.8\" font-family=\"Times,serif\" font-size=\"14.00\"> </text>\n",
       "<polyline fill=\"none\" stroke=\"black\" points=\"2838.6,-161.5 2838.6,-197.5 \"/>\n",
       "<text text-anchor=\"middle\" x=\"2889.6\" y=\"-175.8\" font-family=\"Times,serif\" font-size=\"14.00\">data 0.1464</text>\n",
       "<polyline fill=\"none\" stroke=\"black\" points=\"2940.6,-161.5 2940.6,-197.5 \"/>\n",
       "<text text-anchor=\"middle\" x=\"2992.6\" y=\"-175.8\" font-family=\"Times,serif\" font-size=\"14.00\">grad 4.8284</text>\n",
       "</g>\n",
       "<!-- 139769381560688&#45;&gt;139769381556752* -->\n",
       "<g id=\"edge18\" class=\"edge\">\n",
       "<title>139769381560688&#45;&gt;139769381556752*</title>\n",
       "<path fill=\"none\" stroke=\"black\" d=\"M3045.07,-162.67C3054.37,-161.28 3063.23,-159.96 3071.2,-158.77\"/>\n",
       "<polygon fill=\"black\" stroke=\"black\" points=\"3071.73,-162.23 3081.1,-157.3 3070.7,-155.31 3071.73,-162.23\"/>\n",
       "</g>\n",
       "<!-- 139769381560688**&#45;1 -->\n",
       "<g id=\"node8\" class=\"node\">\n",
       "<title>139769381560688**&#45;1</title>\n",
       "<ellipse fill=\"none\" stroke=\"black\" cx=\"2668.1\" cy=\"-181.5\" rx=\"28.7\" ry=\"18\"/>\n",
       "<text text-anchor=\"middle\" x=\"2668.1\" y=\"-177.8\" font-family=\"Times,serif\" font-size=\"14.00\">**&#45;1</text>\n",
       "</g>\n",
       "<!-- 139769381560688**&#45;1&#45;&gt;139769381560688 -->\n",
       "<g id=\"edge3\" class=\"edge\">\n",
       "<title>139769381560688**&#45;1&#45;&gt;139769381560688</title>\n",
       "<path fill=\"none\" stroke=\"black\" d=\"M2697.03,-181.29C2723.75,-181.08 2765.99,-180.76 2807.21,-180.44\"/>\n",
       "<polygon fill=\"black\" stroke=\"black\" points=\"2807.4,-183.94 2817.37,-180.36 2807.35,-176.94 2807.4,-183.94\"/>\n",
       "</g>\n",
       "<!-- 139769394076768 -->\n",
       "<g id=\"node9\" class=\"node\">\n",
       "<title>139769394076768</title>\n",
       "<polygon fill=\"none\" stroke=\"black\" points=\"1930.1,-191.5 1930.1,-227.5 2161.1,-227.5 2161.1,-191.5 1930.1,-191.5\"/>\n",
       "<text text-anchor=\"middle\" x=\"1940.6\" y=\"-205.8\" font-family=\"Times,serif\" font-size=\"14.00\"> </text>\n",
       "<polyline fill=\"none\" stroke=\"black\" points=\"1951.1,-191.5 1951.1,-227.5 \"/>\n",
       "<text text-anchor=\"middle\" x=\"2002.1\" y=\"-205.8\" font-family=\"Times,serif\" font-size=\"14.00\">data 1.0000</text>\n",
       "<polyline fill=\"none\" stroke=\"black\" points=\"2053.1,-191.5 2053.1,-227.5 \"/>\n",
       "<text text-anchor=\"middle\" x=\"2107.1\" y=\"-205.8\" font-family=\"Times,serif\" font-size=\"14.00\">grad &#45;0.1036</text>\n",
       "</g>\n",
       "<!-- 139769394075280+ -->\n",
       "<g id=\"node14\" class=\"node\">\n",
       "<title>139769394075280+</title>\n",
       "<ellipse fill=\"none\" stroke=\"black\" cx=\"2224.6\" cy=\"-181.5\" rx=\"27\" ry=\"18\"/>\n",
       "<text text-anchor=\"middle\" x=\"2224.6\" y=\"-177.8\" font-family=\"Times,serif\" font-size=\"14.00\">+</text>\n",
       "</g>\n",
       "<!-- 139769394076768&#45;&gt;139769394075280+ -->\n",
       "<g id=\"edge12\" class=\"edge\">\n",
       "<title>139769394076768&#45;&gt;139769394075280+</title>\n",
       "<path fill=\"none\" stroke=\"black\" d=\"M2160.69,-191.45C2170.48,-189.9 2179.8,-188.43 2188.14,-187.11\"/>\n",
       "<polygon fill=\"black\" stroke=\"black\" points=\"2188.79,-190.55 2198.12,-185.53 2187.69,-183.64 2188.79,-190.55\"/>\n",
       "</g>\n",
       "<!-- 139769383036016 -->\n",
       "<g id=\"node10\" class=\"node\">\n",
       "<title>139769383036016</title>\n",
       "<polygon fill=\"none\" stroke=\"black\" points=\"767,-82.5 767,-118.5 1092,-118.5 1092,-82.5 767,-82.5\"/>\n",
       "<text text-anchor=\"middle\" x=\"824\" y=\"-96.8\" font-family=\"Times,serif\" font-size=\"14.00\">x1w1 + x2w2</text>\n",
       "<polyline fill=\"none\" stroke=\"black\" points=\"881,-82.5 881,-118.5 \"/>\n",
       "<text text-anchor=\"middle\" x=\"934.5\" y=\"-96.8\" font-family=\"Times,serif\" font-size=\"14.00\">data &#45;6.0000</text>\n",
       "<polyline fill=\"none\" stroke=\"black\" points=\"988,-82.5 988,-118.5 \"/>\n",
       "<text text-anchor=\"middle\" x=\"1040\" y=\"-96.8\" font-family=\"Times,serif\" font-size=\"14.00\">grad 0.5000</text>\n",
       "</g>\n",
       "<!-- 139769383036016&#45;&gt;139769383037888+ -->\n",
       "<g id=\"edge21\" class=\"edge\">\n",
       "<title>139769383036016&#45;&gt;139769383037888+</title>\n",
       "<path fill=\"none\" stroke=\"black\" d=\"M1079.58,-118.51C1093.66,-120.21 1106.84,-121.8 1118.09,-123.16\"/>\n",
       "<polygon fill=\"black\" stroke=\"black\" points=\"1117.89,-126.66 1128.24,-124.39 1118.73,-119.71 1117.89,-126.66\"/>\n",
       "</g>\n",
       "<!-- 139769383036016+ -->\n",
       "<g id=\"node11\" class=\"node\">\n",
       "<title>139769383036016+</title>\n",
       "<ellipse fill=\"none\" stroke=\"black\" cx=\"704\" cy=\"-100.5\" rx=\"27\" ry=\"18\"/>\n",
       "<text text-anchor=\"middle\" x=\"704\" y=\"-96.8\" font-family=\"Times,serif\" font-size=\"14.00\">+</text>\n",
       "</g>\n",
       "<!-- 139769383036016+&#45;&gt;139769383036016 -->\n",
       "<g id=\"edge4\" class=\"edge\">\n",
       "<title>139769383036016+&#45;&gt;139769383036016</title>\n",
       "<path fill=\"none\" stroke=\"black\" d=\"M731.08,-100.5C738.51,-100.5 747.21,-100.5 756.74,-100.5\"/>\n",
       "<polygon fill=\"black\" stroke=\"black\" points=\"756.95,-104 766.95,-100.5 756.95,-97 756.95,-104\"/>\n",
       "</g>\n",
       "<!-- 139769381468288 -->\n",
       "<g id=\"node12\" class=\"node\">\n",
       "<title>139769381468288</title>\n",
       "<polygon fill=\"none\" stroke=\"black\" points=\"4.5,-165.5 4.5,-201.5 244.5,-201.5 244.5,-165.5 4.5,-165.5\"/>\n",
       "<text text-anchor=\"middle\" x=\"21.5\" y=\"-179.8\" font-family=\"Times,serif\" font-size=\"14.00\">x2</text>\n",
       "<polyline fill=\"none\" stroke=\"black\" points=\"38.5,-165.5 38.5,-201.5 \"/>\n",
       "<text text-anchor=\"middle\" x=\"89.5\" y=\"-179.8\" font-family=\"Times,serif\" font-size=\"14.00\">data 0.0000</text>\n",
       "<polyline fill=\"none\" stroke=\"black\" points=\"140.5,-165.5 140.5,-201.5 \"/>\n",
       "<text text-anchor=\"middle\" x=\"192.5\" y=\"-179.8\" font-family=\"Times,serif\" font-size=\"14.00\">grad 0.5000</text>\n",
       "</g>\n",
       "<!-- 139769381468960* -->\n",
       "<g id=\"node19\" class=\"node\">\n",
       "<title>139769381468960*</title>\n",
       "<ellipse fill=\"none\" stroke=\"black\" cx=\"312\" cy=\"-128.5\" rx=\"27\" ry=\"18\"/>\n",
       "<text text-anchor=\"middle\" x=\"312\" y=\"-124.8\" font-family=\"Times,serif\" font-size=\"14.00\">*</text>\n",
       "</g>\n",
       "<!-- 139769381468288&#45;&gt;139769381468960* -->\n",
       "<g id=\"edge23\" class=\"edge\">\n",
       "<title>139769381468288&#45;&gt;139769381468960*</title>\n",
       "<path fill=\"none\" stroke=\"black\" d=\"M218.13,-165.46C228.63,-162.77 239.1,-159.78 249,-156.5 259.71,-152.96 271.05,-148.16 281.07,-143.54\"/>\n",
       "<polygon fill=\"black\" stroke=\"black\" points=\"282.67,-146.66 290.2,-139.21 279.67,-140.33 282.67,-146.66\"/>\n",
       "</g>\n",
       "<!-- 139769394075280 -->\n",
       "<g id=\"node13\" class=\"node\">\n",
       "<title>139769394075280</title>\n",
       "<polygon fill=\"none\" stroke=\"black\" points=\"2287.6,-163.5 2287.6,-199.5 2518.6,-199.5 2518.6,-163.5 2287.6,-163.5\"/>\n",
       "<text text-anchor=\"middle\" x=\"2298.1\" y=\"-177.8\" font-family=\"Times,serif\" font-size=\"14.00\"> </text>\n",
       "<polyline fill=\"none\" stroke=\"black\" points=\"2308.6,-163.5 2308.6,-199.5 \"/>\n",
       "<text text-anchor=\"middle\" x=\"2359.6\" y=\"-177.8\" font-family=\"Times,serif\" font-size=\"14.00\">data 6.8284</text>\n",
       "<polyline fill=\"none\" stroke=\"black\" points=\"2410.6,-163.5 2410.6,-199.5 \"/>\n",
       "<text text-anchor=\"middle\" x=\"2464.6\" y=\"-177.8\" font-family=\"Times,serif\" font-size=\"14.00\">grad &#45;0.1036</text>\n",
       "</g>\n",
       "<!-- 139769394075280&#45;&gt;139769381560688**&#45;1 -->\n",
       "<g id=\"edge16\" class=\"edge\">\n",
       "<title>139769394075280&#45;&gt;139769381560688**&#45;1</title>\n",
       "<path fill=\"none\" stroke=\"black\" d=\"M2518.69,-181.5C2558.38,-181.5 2600.17,-181.5 2629.25,-181.5\"/>\n",
       "<polygon fill=\"black\" stroke=\"black\" points=\"2629.37,-185 2639.37,-181.5 2629.37,-178 2629.37,-185\"/>\n",
       "</g>\n",
       "<!-- 139769394075280+&#45;&gt;139769394075280 -->\n",
       "<g id=\"edge5\" class=\"edge\">\n",
       "<title>139769394075280+&#45;&gt;139769394075280</title>\n",
       "<path fill=\"none\" stroke=\"black\" d=\"M2251.64,-181.5C2259.18,-181.5 2267.96,-181.5 2277.41,-181.5\"/>\n",
       "<polygon fill=\"black\" stroke=\"black\" points=\"2277.49,-185 2287.49,-181.5 2277.49,-178 2277.49,-185\"/>\n",
       "</g>\n",
       "<!-- 139769381468912 -->\n",
       "<g id=\"node15\" class=\"node\">\n",
       "<title>139769381468912</title>\n",
       "<polygon fill=\"none\" stroke=\"black\" points=\"2.5,-110.5 2.5,-146.5 246.5,-146.5 246.5,-110.5 2.5,-110.5\"/>\n",
       "<text text-anchor=\"middle\" x=\"21.5\" y=\"-124.8\" font-family=\"Times,serif\" font-size=\"14.00\">w2</text>\n",
       "<polyline fill=\"none\" stroke=\"black\" points=\"40.5,-110.5 40.5,-146.5 \"/>\n",
       "<text text-anchor=\"middle\" x=\"91.5\" y=\"-124.8\" font-family=\"Times,serif\" font-size=\"14.00\">data 1.0000</text>\n",
       "<polyline fill=\"none\" stroke=\"black\" points=\"142.5,-110.5 142.5,-146.5 \"/>\n",
       "<text text-anchor=\"middle\" x=\"194.5\" y=\"-124.8\" font-family=\"Times,serif\" font-size=\"14.00\">grad 0.0000</text>\n",
       "</g>\n",
       "<!-- 139769381468912&#45;&gt;139769381468960* -->\n",
       "<g id=\"edge24\" class=\"edge\">\n",
       "<title>139769381468912&#45;&gt;139769381468960*</title>\n",
       "<path fill=\"none\" stroke=\"black\" d=\"M246.64,-128.5C256.7,-128.5 266.26,-128.5 274.79,-128.5\"/>\n",
       "<polygon fill=\"black\" stroke=\"black\" points=\"275,-132 285,-128.5 275,-125 275,-132\"/>\n",
       "</g>\n",
       "<!-- 139769394998544 -->\n",
       "<g id=\"node16\" class=\"node\">\n",
       "<title>139769394998544</title>\n",
       "<polygon fill=\"none\" stroke=\"black\" points=\"1932.1,-136.5 1932.1,-172.5 2159.1,-172.5 2159.1,-136.5 1932.1,-136.5\"/>\n",
       "<text text-anchor=\"middle\" x=\"1942.6\" y=\"-150.8\" font-family=\"Times,serif\" font-size=\"14.00\"> </text>\n",
       "<polyline fill=\"none\" stroke=\"black\" points=\"1953.1,-136.5 1953.1,-172.5 \"/>\n",
       "<text text-anchor=\"middle\" x=\"2004.1\" y=\"-150.8\" font-family=\"Times,serif\" font-size=\"14.00\">data 5.8284</text>\n",
       "<polyline fill=\"none\" stroke=\"black\" points=\"2055.1,-136.5 2055.1,-172.5 \"/>\n",
       "<text text-anchor=\"middle\" x=\"2107.1\" y=\"-150.8\" font-family=\"Times,serif\" font-size=\"14.00\">grad 0.0429</text>\n",
       "</g>\n",
       "<!-- 139769394998544&#45;&gt;139769394992688+ -->\n",
       "<g id=\"edge15\" class=\"edge\">\n",
       "<title>139769394998544&#45;&gt;139769394992688+</title>\n",
       "<path fill=\"none\" stroke=\"black\" d=\"M2159.19,-136.69C2169.47,-135.06 2179.28,-133.51 2188,-132.13\"/>\n",
       "<polygon fill=\"black\" stroke=\"black\" points=\"2188.73,-135.56 2198.06,-130.54 2187.64,-128.64 2188.73,-135.56\"/>\n",
       "</g>\n",
       "<!-- 139769394998544&#45;&gt;139769394075280+ -->\n",
       "<g id=\"edge25\" class=\"edge\">\n",
       "<title>139769394998544&#45;&gt;139769394075280+</title>\n",
       "<path fill=\"none\" stroke=\"black\" d=\"M2159.19,-171.68C2169.47,-173.24 2179.28,-174.74 2188,-176.07\"/>\n",
       "<polygon fill=\"black\" stroke=\"black\" points=\"2187.65,-179.56 2198.06,-177.61 2188.7,-172.64 2187.65,-179.56\"/>\n",
       "</g>\n",
       "<!-- 139769394998544exp -->\n",
       "<g id=\"node17\" class=\"node\">\n",
       "<title>139769394998544exp</title>\n",
       "<ellipse fill=\"none\" stroke=\"black\" cx=\"1866.3\" cy=\"-154.5\" rx=\"27.1\" ry=\"18\"/>\n",
       "<text text-anchor=\"middle\" x=\"1866.3\" y=\"-150.8\" font-family=\"Times,serif\" font-size=\"14.00\">exp</text>\n",
       "</g>\n",
       "<!-- 139769394998544exp&#45;&gt;139769394998544 -->\n",
       "<g id=\"edge6\" class=\"edge\">\n",
       "<title>139769394998544exp&#45;&gt;139769394998544</title>\n",
       "<path fill=\"none\" stroke=\"black\" d=\"M1893.84,-154.5C1901.97,-154.5 1911.49,-154.5 1921.74,-154.5\"/>\n",
       "<polygon fill=\"black\" stroke=\"black\" points=\"1921.76,-158 1931.76,-154.5 1921.76,-151 1921.76,-158\"/>\n",
       "</g>\n",
       "<!-- 139769381468960 -->\n",
       "<g id=\"node18\" class=\"node\">\n",
       "<title>139769381468960</title>\n",
       "<polygon fill=\"none\" stroke=\"black\" points=\"377.5,-110.5 377.5,-146.5 638.5,-146.5 638.5,-110.5 377.5,-110.5\"/>\n",
       "<text text-anchor=\"middle\" x=\"405\" y=\"-124.8\" font-family=\"Times,serif\" font-size=\"14.00\">x2w2</text>\n",
       "<polyline fill=\"none\" stroke=\"black\" points=\"432.5,-110.5 432.5,-146.5 \"/>\n",
       "<text text-anchor=\"middle\" x=\"483.5\" y=\"-124.8\" font-family=\"Times,serif\" font-size=\"14.00\">data 0.0000</text>\n",
       "<polyline fill=\"none\" stroke=\"black\" points=\"534.5,-110.5 534.5,-146.5 \"/>\n",
       "<text text-anchor=\"middle\" x=\"586.5\" y=\"-124.8\" font-family=\"Times,serif\" font-size=\"14.00\">grad 0.5000</text>\n",
       "</g>\n",
       "<!-- 139769381468960&#45;&gt;139769383036016+ -->\n",
       "<g id=\"edge26\" class=\"edge\">\n",
       "<title>139769381468960&#45;&gt;139769383036016+</title>\n",
       "<path fill=\"none\" stroke=\"black\" d=\"M633.78,-110.49C645.77,-108.76 657.15,-107.12 667.08,-105.68\"/>\n",
       "<polygon fill=\"black\" stroke=\"black\" points=\"667.86,-109.11 677.25,-104.22 666.86,-102.18 667.86,-109.11\"/>\n",
       "</g>\n",
       "<!-- 139769381468960*&#45;&gt;139769381468960 -->\n",
       "<g id=\"edge7\" class=\"edge\">\n",
       "<title>139769381468960*&#45;&gt;139769381468960</title>\n",
       "<path fill=\"none\" stroke=\"black\" d=\"M339.16,-128.5C347.24,-128.5 356.75,-128.5 367.07,-128.5\"/>\n",
       "<polygon fill=\"black\" stroke=\"black\" points=\"367.2,-132 377.2,-128.5 367.2,-125 367.2,-132\"/>\n",
       "</g>\n",
       "<!-- 139769381464880 -->\n",
       "<g id=\"node20\" class=\"node\">\n",
       "<title>139769381464880</title>\n",
       "<polygon fill=\"none\" stroke=\"black\" points=\"2.5,-0.5 2.5,-36.5 246.5,-36.5 246.5,-0.5 2.5,-0.5\"/>\n",
       "<text text-anchor=\"middle\" x=\"19.5\" y=\"-14.8\" font-family=\"Times,serif\" font-size=\"14.00\">x1</text>\n",
       "<polyline fill=\"none\" stroke=\"black\" points=\"36.5,-0.5 36.5,-36.5 \"/>\n",
       "<text text-anchor=\"middle\" x=\"87.5\" y=\"-14.8\" font-family=\"Times,serif\" font-size=\"14.00\">data 2.0000</text>\n",
       "<polyline fill=\"none\" stroke=\"black\" points=\"138.5,-0.5 138.5,-36.5 \"/>\n",
       "<text text-anchor=\"middle\" x=\"192.5\" y=\"-14.8\" font-family=\"Times,serif\" font-size=\"14.00\">grad &#45;1.5000</text>\n",
       "</g>\n",
       "<!-- 139769381464880&#45;&gt;139769381455760* -->\n",
       "<g id=\"edge19\" class=\"edge\">\n",
       "<title>139769381464880&#45;&gt;139769381455760*</title>\n",
       "<path fill=\"none\" stroke=\"black\" d=\"M218.13,-36.54C228.63,-39.23 239.1,-42.22 249,-45.5 259.71,-49.04 271.05,-53.84 281.07,-58.46\"/>\n",
       "<polygon fill=\"black\" stroke=\"black\" points=\"279.67,-61.67 290.2,-62.79 282.67,-55.34 279.67,-61.67\"/>\n",
       "</g>\n",
       "<!-- 139769394998640 -->\n",
       "<g id=\"node21\" class=\"node\">\n",
       "<title>139769394998640</title>\n",
       "<polygon fill=\"none\" stroke=\"black\" points=\"1220.5,-164.5 1220.5,-200.5 1447.5,-200.5 1447.5,-164.5 1220.5,-164.5\"/>\n",
       "<text text-anchor=\"middle\" x=\"1231\" y=\"-178.8\" font-family=\"Times,serif\" font-size=\"14.00\"> </text>\n",
       "<polyline fill=\"none\" stroke=\"black\" points=\"1241.5,-164.5 1241.5,-200.5 \"/>\n",
       "<text text-anchor=\"middle\" x=\"1292.5\" y=\"-178.8\" font-family=\"Times,serif\" font-size=\"14.00\">data 2.0000</text>\n",
       "<polyline fill=\"none\" stroke=\"black\" points=\"1343.5,-164.5 1343.5,-200.5 \"/>\n",
       "<text text-anchor=\"middle\" x=\"1395.5\" y=\"-178.8\" font-family=\"Times,serif\" font-size=\"14.00\">grad 0.2203</text>\n",
       "</g>\n",
       "<!-- 139769394997728* -->\n",
       "<g id=\"node28\" class=\"node\">\n",
       "<title>139769394997728*</title>\n",
       "<ellipse fill=\"none\" stroke=\"black\" cx=\"1513\" cy=\"-154.5\" rx=\"27\" ry=\"18\"/>\n",
       "<text text-anchor=\"middle\" x=\"1513\" y=\"-150.8\" font-family=\"Times,serif\" font-size=\"14.00\">*</text>\n",
       "</g>\n",
       "<!-- 139769394998640&#45;&gt;139769394997728* -->\n",
       "<g id=\"edge28\" class=\"edge\">\n",
       "<title>139769394998640&#45;&gt;139769394997728*</title>\n",
       "<path fill=\"none\" stroke=\"black\" d=\"M1447.6,-164.69C1457.87,-163.06 1467.68,-161.51 1476.4,-160.13\"/>\n",
       "<polygon fill=\"black\" stroke=\"black\" points=\"1477.14,-163.56 1486.47,-158.54 1476.04,-156.64 1477.14,-163.56\"/>\n",
       "</g>\n",
       "<!-- 139769381455760 -->\n",
       "<g id=\"node22\" class=\"node\">\n",
       "<title>139769381455760</title>\n",
       "<polygon fill=\"none\" stroke=\"black\" points=\"375,-55.5 375,-91.5 641,-91.5 641,-55.5 375,-55.5\"/>\n",
       "<text text-anchor=\"middle\" x=\"402.5\" y=\"-69.8\" font-family=\"Times,serif\" font-size=\"14.00\">x1w1</text>\n",
       "<polyline fill=\"none\" stroke=\"black\" points=\"430,-55.5 430,-91.5 \"/>\n",
       "<text text-anchor=\"middle\" x=\"483.5\" y=\"-69.8\" font-family=\"Times,serif\" font-size=\"14.00\">data &#45;6.0000</text>\n",
       "<polyline fill=\"none\" stroke=\"black\" points=\"537,-55.5 537,-91.5 \"/>\n",
       "<text text-anchor=\"middle\" x=\"589\" y=\"-69.8\" font-family=\"Times,serif\" font-size=\"14.00\">grad 0.5000</text>\n",
       "</g>\n",
       "<!-- 139769381455760&#45;&gt;139769383036016+ -->\n",
       "<g id=\"edge22\" class=\"edge\">\n",
       "<title>139769381455760&#45;&gt;139769383036016+</title>\n",
       "<path fill=\"none\" stroke=\"black\" d=\"M638.4,-91.51C648.78,-92.95 658.6,-94.32 667.3,-95.53\"/>\n",
       "<polygon fill=\"black\" stroke=\"black\" points=\"666.94,-99.01 677.32,-96.93 667.9,-92.08 666.94,-99.01\"/>\n",
       "</g>\n",
       "<!-- 139769381455760*&#45;&gt;139769381455760 -->\n",
       "<g id=\"edge8\" class=\"edge\">\n",
       "<title>139769381455760*&#45;&gt;139769381455760</title>\n",
       "<path fill=\"none\" stroke=\"black\" d=\"M339.16,-73.5C346.61,-73.5 355.28,-73.5 364.68,-73.5\"/>\n",
       "<polygon fill=\"black\" stroke=\"black\" points=\"364.73,-77 374.73,-73.5 364.73,-70 364.73,-77\"/>\n",
       "</g>\n",
       "<!-- 139769383037888 -->\n",
       "<g id=\"node24\" class=\"node\">\n",
       "<title>139769383037888</title>\n",
       "<polygon fill=\"none\" stroke=\"black\" points=\"1218,-109.5 1218,-145.5 1450,-145.5 1450,-109.5 1218,-109.5\"/>\n",
       "<text text-anchor=\"middle\" x=\"1231\" y=\"-123.8\" font-family=\"Times,serif\" font-size=\"14.00\">n</text>\n",
       "<polyline fill=\"none\" stroke=\"black\" points=\"1244,-109.5 1244,-145.5 \"/>\n",
       "<text text-anchor=\"middle\" x=\"1295\" y=\"-123.8\" font-family=\"Times,serif\" font-size=\"14.00\">data 0.8814</text>\n",
       "<polyline fill=\"none\" stroke=\"black\" points=\"1346,-109.5 1346,-145.5 \"/>\n",
       "<text text-anchor=\"middle\" x=\"1398\" y=\"-123.8\" font-family=\"Times,serif\" font-size=\"14.00\">grad 0.5000</text>\n",
       "</g>\n",
       "<!-- 139769383037888&#45;&gt;139769394997728* -->\n",
       "<g id=\"edge17\" class=\"edge\">\n",
       "<title>139769383037888&#45;&gt;139769394997728*</title>\n",
       "<path fill=\"none\" stroke=\"black\" d=\"M1450.09,-145.06C1459.46,-146.49 1468.39,-147.85 1476.4,-149.07\"/>\n",
       "<polygon fill=\"black\" stroke=\"black\" points=\"1475.96,-152.54 1486.37,-150.59 1477.01,-145.62 1475.96,-152.54\"/>\n",
       "</g>\n",
       "<!-- 139769383037888+&#45;&gt;139769383037888 -->\n",
       "<g id=\"edge9\" class=\"edge\">\n",
       "<title>139769383037888+&#45;&gt;139769383037888</title>\n",
       "<path fill=\"none\" stroke=\"black\" d=\"M1182.12,-127.5C1189.53,-127.5 1198.14,-127.5 1207.4,-127.5\"/>\n",
       "<polygon fill=\"black\" stroke=\"black\" points=\"1207.69,-131 1217.69,-127.5 1207.69,-124 1207.69,-131\"/>\n",
       "</g>\n",
       "<!-- 139769394992592 -->\n",
       "<g id=\"node26\" class=\"node\">\n",
       "<title>139769394992592</title>\n",
       "<polygon fill=\"none\" stroke=\"black\" points=\"1929.6,-81.5 1929.6,-117.5 2161.6,-117.5 2161.6,-81.5 1929.6,-81.5\"/>\n",
       "<text text-anchor=\"middle\" x=\"1940.1\" y=\"-95.8\" font-family=\"Times,serif\" font-size=\"14.00\"> </text>\n",
       "<polyline fill=\"none\" stroke=\"black\" points=\"1950.6,-81.5 1950.6,-117.5 \"/>\n",
       "<text text-anchor=\"middle\" x=\"2004.1\" y=\"-95.8\" font-family=\"Times,serif\" font-size=\"14.00\">data &#45;1.0000</text>\n",
       "<polyline fill=\"none\" stroke=\"black\" points=\"2057.6,-81.5 2057.6,-117.5 \"/>\n",
       "<text text-anchor=\"middle\" x=\"2109.6\" y=\"-95.8\" font-family=\"Times,serif\" font-size=\"14.00\">grad 0.1464</text>\n",
       "</g>\n",
       "<!-- 139769394992592&#45;&gt;139769394992688+ -->\n",
       "<g id=\"edge27\" class=\"edge\">\n",
       "<title>139769394992592&#45;&gt;139769394992688+</title>\n",
       "<path fill=\"none\" stroke=\"black\" d=\"M2161.69,-117.06C2171.05,-118.49 2179.98,-119.85 2188,-121.07\"/>\n",
       "<polygon fill=\"black\" stroke=\"black\" points=\"2187.55,-124.54 2197.96,-122.59 2188.61,-117.62 2187.55,-124.54\"/>\n",
       "</g>\n",
       "<!-- 139769394997728 -->\n",
       "<g id=\"node27\" class=\"node\">\n",
       "<title>139769394997728</title>\n",
       "<polygon fill=\"none\" stroke=\"black\" points=\"1576,-136.5 1576,-172.5 1803,-172.5 1803,-136.5 1576,-136.5\"/>\n",
       "<text text-anchor=\"middle\" x=\"1586.5\" y=\"-150.8\" font-family=\"Times,serif\" font-size=\"14.00\"> </text>\n",
       "<polyline fill=\"none\" stroke=\"black\" points=\"1597,-136.5 1597,-172.5 \"/>\n",
       "<text text-anchor=\"middle\" x=\"1648\" y=\"-150.8\" font-family=\"Times,serif\" font-size=\"14.00\">data 1.7627</text>\n",
       "<polyline fill=\"none\" stroke=\"black\" points=\"1699,-136.5 1699,-172.5 \"/>\n",
       "<text text-anchor=\"middle\" x=\"1751\" y=\"-150.8\" font-family=\"Times,serif\" font-size=\"14.00\">grad 0.2500</text>\n",
       "</g>\n",
       "<!-- 139769394997728&#45;&gt;139769394998544exp -->\n",
       "<g id=\"edge13\" class=\"edge\">\n",
       "<title>139769394997728&#45;&gt;139769394998544exp</title>\n",
       "<path fill=\"none\" stroke=\"black\" d=\"M1803.18,-154.5C1812.26,-154.5 1820.95,-154.5 1828.79,-154.5\"/>\n",
       "<polygon fill=\"black\" stroke=\"black\" points=\"1828.93,-158 1838.93,-154.5 1828.93,-151 1828.93,-158\"/>\n",
       "</g>\n",
       "<!-- 139769394997728*&#45;&gt;139769394997728 -->\n",
       "<g id=\"edge10\" class=\"edge\">\n",
       "<title>139769394997728*&#45;&gt;139769394997728</title>\n",
       "<path fill=\"none\" stroke=\"black\" d=\"M1540.12,-154.5C1547.67,-154.5 1556.45,-154.5 1565.9,-154.5\"/>\n",
       "<polygon fill=\"black\" stroke=\"black\" points=\"1565.95,-158 1575.95,-154.5 1565.95,-151 1565.95,-158\"/>\n",
       "</g>\n",
       "</g>\n",
       "</svg>\n"
      ],
      "text/plain": [
       "<graphviz.graphs.Digraph at 0x7f1e985684f0>"
      ]
     },
     "execution_count": 194,
     "metadata": {},
     "output_type": "execute_result"
    }
   ],
   "source": [
    "# inputs x1, x2\n",
    "x1 = Value(2.0, label=\"x1\")\n",
    "x2 = Value(0.0, label=\"x2\")\n",
    "\n",
    "# weights w1, w2\n",
    "w1 = Value(-3.0, label=\"w1\")\n",
    "w2 = Value(1.0, label=\"w2\")\n",
    "\n",
    "# bias of the neuron\n",
    "b = Value(6.8813735870195432, label=\"b\")\n",
    "\n",
    "# x1*w1 + x2*w2 + b\n",
    "x1w1 = x1 * w1; x1w1.label = \"x1w1\"\n",
    "x2w2 = x2 * w2; x2w2.label = \"x2w2\"\n",
    "\n",
    "x1w1x2w2 = x1w1 + x2w2; x1w1x2w2.label = \"x1w1 + x2w2\"\n",
    "n = x1w1x2w2 + b; n.label = \"n\"\n",
    "\n",
    "e = (2*n).exp()\n",
    "o = (e - 1) / (e + 1)\n",
    "\n",
    "o.label = \"o\"\n",
    "\n",
    "o.backward()\n",
    "draw_dot(o)\n"
   ]
  },
  {
   "cell_type": "code",
   "execution_count": null,
   "metadata": {},
   "outputs": [],
   "source": []
  }
 ],
 "metadata": {
  "kernelspec": {
   "display_name": "Python 3.10.6 ('dev_env')",
   "language": "python",
   "name": "python3"
  },
  "language_info": {
   "codemirror_mode": {
    "name": "ipython",
    "version": 3
   },
   "file_extension": ".py",
   "mimetype": "text/x-python",
   "name": "python",
   "nbconvert_exporter": "python",
   "pygments_lexer": "ipython3",
   "version": "3.10.6"
  },
  "orig_nbformat": 4,
  "vscode": {
   "interpreter": {
    "hash": "d7bb1b9f6447bb689f799facb2b5afc37973dc5c3309b05761a855a1eaeddf2d"
   }
  }
 },
 "nbformat": 4,
 "nbformat_minor": 2
}
